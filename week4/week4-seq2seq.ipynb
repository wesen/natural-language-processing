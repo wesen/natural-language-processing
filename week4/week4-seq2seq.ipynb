{
 "cells": [
  {
   "cell_type": "markdown",
   "metadata": {},
   "source": [
    "# Learn to calculate with seq2seq model\n",
    "\n",
    "In this assignment, you will learn how to use neural networks to solve sequence-to-sequence prediction tasks. Seq2Seq models are very popular these days because they achieve great results in Machine Translation, Text Summarization, Conversational Modeling and more.\n",
    "\n",
    "Using sequence-to-sequence modeling you are going to build a calculator for evaluating arithmetic expressions, by taking an equation as an input to the neural network and producing an answer as it's output.\n",
    "\n",
    "The resulting solution for this problem will be based on state-of-the-art approaches for sequence-to-sequence learning and you should be able to easily adapt it to solve other tasks. However, if you want to train your own machine translation system or intellectual chat bot, it would be useful to have access to compute resources like GPU, and be patient, because training of such systems is usually time consuming. \n",
    "\n",
    "### Libraries\n",
    "\n",
    "For this task you will need the following libraries:\n",
    " - [TensorFlow](https://www.tensorflow.org) — an open-source software library for Machine Intelligence.\n",
    " - [scikit-learn](http://scikit-learn.org/stable/index.html) — a tool for data mining and data analysis.\n",
    " \n",
    "If you have never worked with TensorFlow, you will probably want to read some tutorials during your work on this assignment, e.g. [Neural Machine Translation](https://www.tensorflow.org/tutorials/seq2seq) tutorial deals with very similar task and can explain some concepts to you. "
   ]
  },
  {
   "cell_type": "markdown",
   "metadata": {},
   "source": [
    "### Data\n",
    "\n",
    "One benefit of this task is that you don't need to download any data — you will generate it on your own! We will use two operators (addition and subtraction) and work with positive integer numbers in some range. Here are examples of correct inputs and outputs:\n",
    "\n",
    "    Input: '1+2'\n",
    "    Output: '3'\n",
    "    \n",
    "    Input: '0-99'\n",
    "    Output: '-99'\n",
    "\n",
    "*Note, that there are no spaces between operators and operands.*\n",
    "\n",
    "\n",
    "Now you need to implement the function *generate_equations*, which will be used to generate the data."
   ]
  },
  {
   "cell_type": "code",
   "execution_count": 2,
   "metadata": {
    "scrolled": false
   },
   "outputs": [],
   "source": [
    "import random\n",
    "random.seed(951)"
   ]
  },
  {
   "cell_type": "code",
   "execution_count": 3,
   "metadata": {
    "scrolled": false
   },
   "outputs": [],
   "source": [
    "def generate_equations(allowed_operators, dataset_size, min_value, max_value):\n",
    "    \"\"\"Generates pairs of equations and solutions to them.\n",
    "    \n",
    "       Each equation has a form of two integers with an operator in between.\n",
    "       Each solution is an integer with the result of the operaion.\n",
    "    \n",
    "        allowed_operators: list of strings, allowed operators.\n",
    "        dataset_size: an integer, number of equations to be generated.\n",
    "        min_value: an integer, min value of each operand.\n",
    "        max_value: an integer, max value of each operand.\n",
    "\n",
    "        result: a list of tuples of strings (equation, solution).\n",
    "    \"\"\"\n",
    "    sample = []\n",
    "    for _ in range(dataset_size):\n",
    "        ######################################\n",
    "        ######### YOUR CODE HERE #############\n",
    "        ######################################\n",
    "        eq = '{}{}{}'.format(random.randint(min_value, max_value), \n",
    "                             random.choice(allowed_operators), \n",
    "                             random.randint(min_value, max_value))\n",
    "        solution = str(eval(eq))\n",
    "        sample.append((eq, solution))\n",
    "    return sample"
   ]
  },
  {
   "cell_type": "markdown",
   "metadata": {},
   "source": [
    "To check the correctness of your implementation, use *test_generate_equations* function:"
   ]
  },
  {
   "cell_type": "code",
   "execution_count": 4,
   "metadata": {
    "scrolled": false
   },
   "outputs": [],
   "source": [
    "def test_generate_equations():\n",
    "    allowed_operators = ['+', '-']\n",
    "    dataset_size = 10\n",
    "    for (input_, output_) in generate_equations(allowed_operators, dataset_size, 0, 100):\n",
    "        if not (type(input_) is str and type(output_) is str):\n",
    "            return \"Both parts should be strings.\"\n",
    "        if eval(input_) != int(output_):\n",
    "            return \"The (equation: {!r}, solution: {!r}) pair is incorrect.\".format(input_, output_)\n",
    "    return \"Tests passed.\""
   ]
  },
  {
   "cell_type": "code",
   "execution_count": 5,
   "metadata": {
    "scrolled": false
   },
   "outputs": [
    {
     "name": "stdout",
     "output_type": "stream",
     "text": [
      "Tests passed.\n"
     ]
    }
   ],
   "source": [
    "random.seed(951)\n",
    "print(test_generate_equations())"
   ]
  },
  {
   "cell_type": "markdown",
   "metadata": {},
   "source": [
    "Finally, we are ready to generate the train and test data for the neural network:"
   ]
  },
  {
   "cell_type": "code",
   "execution_count": 6,
   "metadata": {
    "scrolled": false
   },
   "outputs": [],
   "source": [
    "from sklearn.model_selection import train_test_split"
   ]
  },
  {
   "cell_type": "code",
   "execution_count": 7,
   "metadata": {
    "scrolled": false
   },
   "outputs": [],
   "source": [
    "random.seed(951)\n",
    "allowed_operators = ['+', '-']\n",
    "dataset_size = 100000\n",
    "data = generate_equations(allowed_operators, dataset_size, min_value=0, max_value=9999)\n",
    "\n",
    "train_set, test_set = train_test_split(data, test_size=0.2, random_state=42)"
   ]
  },
  {
   "cell_type": "markdown",
   "metadata": {},
   "source": [
    "## Prepare data for the neural network\n",
    "\n",
    "The next stage of data preparation is creating mappings of the characters to their indices in some vocabulary. Since in our task we already know which symbols will appear in the inputs and outputs, generating the vocabulary is a simple step.\n",
    "\n",
    "#### How to create dictionaries for other task\n",
    "\n",
    "First of all, you need to understand what is the basic unit of the sequence in your task. In our case, we operate on symbols and the basic unit is a symbol. The number of symbols is small, so we don't need to think about filtering/normalization steps. However, in other tasks, the basic unit is often a word, and in this case the mapping would be *word $\\to$ integer*. The number of words might be huge, so it would be reasonable to filter them, for example, by frequency and leave only the frequent ones. Other strategies that your should consider are: data normalization (lowercasing, tokenization, how to consider punctuation marks), separate vocabulary for input and for output (e.g. for machine translation), some specifics of the task."
   ]
  },
  {
   "cell_type": "code",
   "execution_count": 8,
   "metadata": {
    "scrolled": true
   },
   "outputs": [
    {
     "data": {
      "text/plain": [
       "[('9353-8761', '592'),\n",
       " ('2639+8207', '10846'),\n",
       " ('8151+2751', '10902'),\n",
       " ('6430+8612', '15042'),\n",
       " ('8735-9875', '-1140'),\n",
       " ('7299+5605', '12904'),\n",
       " ('7023-8027', '-1004'),\n",
       " ('8902+1862', '10764'),\n",
       " ('3603-4008', '-405'),\n",
       " ('6225+8164', '14389')]"
      ]
     },
     "execution_count": 8,
     "metadata": {},
     "output_type": "execute_result"
    }
   ],
   "source": [
    "train_set[:10]"
   ]
  },
  {
   "cell_type": "code",
   "execution_count": 9,
   "metadata": {
    "scrolled": false
   },
   "outputs": [],
   "source": [
    "word2id = {symbol:i for i, symbol in enumerate('^$#+-1234567890')}\n",
    "id2word = {i:symbol for symbol, i in word2id.items()}"
   ]
  },
  {
   "cell_type": "markdown",
   "metadata": {},
   "source": [
    "#### Special symbols"
   ]
  },
  {
   "cell_type": "code",
   "execution_count": 10,
   "metadata": {
    "scrolled": false
   },
   "outputs": [],
   "source": [
    "start_symbol = '^'\n",
    "end_symbol = '$'\n",
    "padding_symbol = '#'"
   ]
  },
  {
   "cell_type": "markdown",
   "metadata": {},
   "source": [
    "You could notice that we have added 3 special symbols: '^', '\\$' and '#':\n",
    "- '^' symbol will be passed to the network to indicate the beginning of the decoding procedure. We will discuss this one later in more details.\n",
    "- '\\$' symbol will be used to indicate the *end of a string*, both for input and output sequences. \n",
    "- '#' symbol will be used as a *padding* character to make lengths of all strings equal within one training batch.\n",
    "\n",
    "People have a bit different habits when it comes to special symbols in encoder-decoder networks, so don't get too much confused if you come across other variants in tutorials you read. "
   ]
  },
  {
   "cell_type": "markdown",
   "metadata": {},
   "source": [
    "#### Padding"
   ]
  },
  {
   "cell_type": "markdown",
   "metadata": {},
   "source": [
    "When vocabularies are ready, we need to be able to convert a sentence to a list of vocabulary word indices and back. At the same time, let's care about padding. We are going to preprocess each sequence from the input (and output ground truth) in such a way that:\n",
    "- it has a predefined length *padded_len*\n",
    "- it is probably cut off or padded with the *padding symbol* '#'\n",
    "- it *always* ends with the *end symbol* '$'\n",
    "\n",
    "We will treat the original characters of the sequence **and the end symbol** as the valid part of the input. We will store *the actual length* of the sequence, which includes the end symbol, but does not include the padding symbols. "
   ]
  },
  {
   "cell_type": "markdown",
   "metadata": {},
   "source": [
    " Now you need to implement the function *sentence_to_ids* that does the described job. "
   ]
  },
  {
   "cell_type": "code",
   "execution_count": 11,
   "metadata": {
    "scrolled": false
   },
   "outputs": [],
   "source": [
    "def sentence_to_ids(sentence, word2id, padded_len):\n",
    "    \"\"\" Converts a sequence of symbols to a padded sequence of their ids.\n",
    "    \n",
    "      sentence: a string, input/output sequence of symbols.\n",
    "      word2id: a dict, a mapping from original symbols to ids.\n",
    "      padded_len: an integer, a desirable length of the sequence.\n",
    "\n",
    "      result: a tuple of (a list of ids, an actual length of sentence).\n",
    "    \"\"\"\n",
    "    \n",
    "    sent_ids = []\n",
    "    \n",
    "    sentence = sentence[:padded_len - 1]\n",
    "    sent_len = len(sentence) + 1\n",
    "\n",
    "    \n",
    "    for i in range(padded_len):\n",
    "        if i < len(sentence):\n",
    "            sent_ids.append(word2id[sentence[i]])\n",
    "        elif i == len(sentence):\n",
    "            sent_ids.append(word2id['$'])\n",
    "        else:\n",
    "            sent_ids.append(word2id['#'])\n",
    "    \n",
    "    return sent_ids, sent_len"
   ]
  },
  {
   "cell_type": "markdown",
   "metadata": {},
   "source": [
    "Check that your implementation is correct:"
   ]
  },
  {
   "cell_type": "code",
   "execution_count": 12,
   "metadata": {
    "scrolled": false
   },
   "outputs": [],
   "source": [
    "def test_sentence_to_ids():\n",
    "    sentences = [(\"123+123\", 7), (\"123+123\", 8), (\"123+123\", 10)]\n",
    "    expected_output = [([5, 6, 7, 3, 5, 6, 1], 7), \n",
    "                       ([5, 6, 7, 3, 5, 6, 7, 1], 8), \n",
    "                       ([5, 6, 7, 3, 5, 6, 7, 1, 2, 2], 8)] \n",
    "    for (sentence, padded_len), (sentence_ids, expected_length) in zip(sentences, expected_output):\n",
    "        output, length = sentence_to_ids(sentence, word2id, padded_len)\n",
    "        if output != sentence_ids:\n",
    "            return(\"Convertion of '{}' for padded_len={} to {} is incorrect.\".format(\n",
    "                sentence, padded_len, output))\n",
    "        if length != expected_length:\n",
    "            return(\"Convertion of '{}' for padded_len={} has incorrect actual length {}.\".format(\n",
    "                sentence, padded_len, length))\n",
    "    return(\"Tests passed.\")"
   ]
  },
  {
   "cell_type": "code",
   "execution_count": 13,
   "metadata": {
    "scrolled": false
   },
   "outputs": [
    {
     "name": "stdout",
     "output_type": "stream",
     "text": [
      "Tests passed.\n"
     ]
    }
   ],
   "source": [
    "print(test_sentence_to_ids())"
   ]
  },
  {
   "cell_type": "markdown",
   "metadata": {},
   "source": [
    "We also need to be able to get back from indices to symbols:"
   ]
  },
  {
   "cell_type": "code",
   "execution_count": 14,
   "metadata": {
    "scrolled": false
   },
   "outputs": [],
   "source": [
    "def ids_to_sentence(ids, id2word):\n",
    "    \"\"\" Converts a sequence of ids to a sequence of symbols.\n",
    "    \n",
    "          ids: a list, indices for the padded sequence.\n",
    "          id2word:  a dict, a mapping from ids to original symbols.\n",
    "\n",
    "          result: a list of symbols.\n",
    "    \"\"\"\n",
    " \n",
    "    return [id2word[i] for i in ids] \n",
    "\n",
    "def sentence_to_number(sentence):\n",
    "    s = ''.join(sentence)\n",
    "    return int(s[:s.find(end_symbol)])"
   ]
  },
  {
   "cell_type": "markdown",
   "metadata": {},
   "source": [
    "#### Generating batches"
   ]
  },
  {
   "cell_type": "markdown",
   "metadata": {},
   "source": [
    "The final step of data preparation is a function that transforms a batch of sentences to a list of lists of indices. "
   ]
  },
  {
   "cell_type": "code",
   "execution_count": 15,
   "metadata": {
    "scrolled": false
   },
   "outputs": [],
   "source": [
    "def batch_to_ids(sentences, word2id, max_len):\n",
    "    \"\"\"Prepares batches of indices. \n",
    "    \n",
    "       Sequences are padded to match the longest sequence in the batch,\n",
    "       if it's longer than max_len, then max_len is used instead.\n",
    "\n",
    "        sentences: a list of strings, original sequences.\n",
    "        word2id: a dict, a mapping from original symbols to ids.\n",
    "        max_len: an integer, max len of sequences allowed.\n",
    "\n",
    "        result: a list of lists of ids, a list of actual lengths.\n",
    "    \"\"\"\n",
    "    \n",
    "    max_len_in_batch = min(max(len(s) for s in sentences) + 1, max_len)\n",
    "    batch_ids, batch_ids_len = [], []\n",
    "    for sentence in sentences:\n",
    "        ids, ids_len = sentence_to_ids(sentence, word2id, max_len_in_batch)\n",
    "        batch_ids.append(ids)\n",
    "        batch_ids_len.append(ids_len)\n",
    "    return batch_ids, batch_ids_len"
   ]
  },
  {
   "cell_type": "markdown",
   "metadata": {},
   "source": [
    "The function *generate_batches* will help to generate batches with defined size from given samples."
   ]
  },
  {
   "cell_type": "code",
   "execution_count": 16,
   "metadata": {
    "scrolled": false
   },
   "outputs": [],
   "source": [
    "def generate_batches(samples, batch_size=64):\n",
    "    X, Y = [], []\n",
    "    for i, (x, y) in enumerate(samples, 1):\n",
    "        X.append(x)\n",
    "        Y.append(y)\n",
    "        if i % batch_size == 0:\n",
    "            yield X, Y\n",
    "            X, Y = [], []\n",
    "    if X and Y:\n",
    "        yield X, Y"
   ]
  },
  {
   "cell_type": "markdown",
   "metadata": {},
   "source": [
    "To illustrate the result of the implemented functions, run the following cell:"
   ]
  },
  {
   "cell_type": "code",
   "execution_count": 17,
   "metadata": {
    "scrolled": false
   },
   "outputs": [
    {
     "name": "stdout",
     "output_type": "stream",
     "text": [
      "Input: ('9353-8761', '592')\n",
      "Ids: [[13, 7, 9, 7, 4, 12, 11, 10, 5, 1], [9, 13, 6, 1, 2, 2, 2, 2, 2, 2]]\n",
      "Sentences lengths: [10, 4]\n"
     ]
    }
   ],
   "source": [
    "sentences = train_set[0]\n",
    "ids, sent_lens = batch_to_ids(sentences, word2id, max_len=10)\n",
    "print('Input:', sentences)\n",
    "print('Ids: {}\\nSentences lengths: {}'.format(ids, sent_lens))"
   ]
  },
  {
   "cell_type": "markdown",
   "metadata": {},
   "source": [
    "## Encoder-Decoder architecture\n",
    "\n",
    "Encoder-Decoder is a successful architecture for Seq2Seq tasks with different lengths of input and output sequences. The main idea is to use two recurrent neural networks, where the first neural network *encodes* the input sequence into a real-valued vector and then the second neural network *decodes* this vector into the output sequence. While building the neural network, we will specify some particular characteristics of this architecture."
   ]
  },
  {
   "cell_type": "code",
   "execution_count": 18,
   "metadata": {
    "scrolled": false
   },
   "outputs": [],
   "source": [
    "import tensorflow as tf"
   ]
  },
  {
   "cell_type": "markdown",
   "metadata": {},
   "source": [
    "Let us use TensorFlow building blocks to specify the network architecture."
   ]
  },
  {
   "cell_type": "code",
   "execution_count": 19,
   "metadata": {
    "scrolled": false
   },
   "outputs": [],
   "source": [
    "class Seq2SeqModel(object):\n",
    "    pass"
   ]
  },
  {
   "cell_type": "markdown",
   "metadata": {},
   "source": [
    "First, we need to create [placeholders](https://www.tensorflow.org/api_guides/python/io_ops#Placeholders) to specify what data we are going to feed into the network during the execution time. For this task we will need:\n",
    " - *input_batch* — sequences of sentences (the shape will equal to [batch_size, max_sequence_len_in_batch]);\n",
    " - *input_batch_lengths* — lengths of not padded sequences (the shape equals to [batch_size]);\n",
    " - *ground_truth* — sequences of groundtruth (the shape will equal to [batch_size, max_sequence_len_in_batch]);\n",
    " - *ground_truth_lengths* — lengths of not padded groundtruth sequences (the shape equals to [batch_size]);\n",
    " - *dropout_ph* — dropout keep probability; this placeholder has a predifined value 1;\n",
    " - *learning_rate_ph* — learning rate."
   ]
  },
  {
   "cell_type": "code",
   "execution_count": 274,
   "metadata": {
    "scrolled": false
   },
   "outputs": [],
   "source": [
    "def declare_placeholders(self):\n",
    "    \"\"\"Specifies placeholders for the model.\"\"\"\n",
    "    \n",
    "    # Placeholders for input and its actual lengths.\n",
    "    self.input_batch = tf.placeholder(shape=(None, None), dtype=tf.int32, name='input_batch')\n",
    "    self.input_batch_lengths = tf.placeholder(shape=(None, ), dtype=tf.int32, name='input_batch_lengths')\n",
    "    \n",
    "    # Placeholders for groundtruth and its actual lengths.\n",
    "    self.ground_truth = tf.placeholder(shape=(None,None), dtype=tf.int32, name='ground_truth')\n",
    "    self.ground_truth_lengths = tf.placeholder(shape=(None,), dtype=tf.int32, name='ground_truth_lengths')\n",
    "        \n",
    "    self.learning_rate_ph = tf.placeholder_with_default(tf.cast(0.01, tf.float32), shape=[])"
   ]
  },
  {
   "cell_type": "code",
   "execution_count": 275,
   "metadata": {
    "scrolled": false
   },
   "outputs": [],
   "source": [
    "Seq2SeqModel.__declare_placeholders = classmethod(declare_placeholders)"
   ]
  },
  {
   "cell_type": "markdown",
   "metadata": {},
   "source": [
    "Now, let us specify the layers of the neural network. First, we need to prepare an embedding matrix. Since we use the same vocabulary for input and output, we need only one such matrix. For tasks with different vocabularies there would be multiple embedding layers.\n",
    "- Create embeddings matrix with [tf.Variable](https://www.tensorflow.org/api_docs/python/tf/Variable). Specify its name, type (tf.float32), and initialize with random values.\n",
    "- Perform [embeddings lookup](https://www.tensorflow.org/api_docs/python/tf/nn/embedding_lookup) for a given input batch."
   ]
  },
  {
   "cell_type": "code",
   "execution_count": 276,
   "metadata": {
    "scrolled": false
   },
   "outputs": [],
   "source": [
    "def create_embeddings(self, vocab_size, embeddings_size):\n",
    "    \"\"\"Specifies embeddings layer and embeds an input batch.\"\"\"\n",
    "     \n",
    "    random_initializer = tf.random_uniform((vocab_size, embeddings_size), -1.0, 1.0)\n",
    "    self.embeddings = tf.Variable(random_initializer, dtype=tf.float32, name='embeddings_matrix')\n",
    "    \n",
    "    # Perform embeddings lookup for self.input_batch. \n",
    "    self.input_batch_embedded = tf.nn.embedding_lookup(self.embeddings, self.input_batch)"
   ]
  },
  {
   "cell_type": "code",
   "execution_count": 277,
   "metadata": {
    "scrolled": false
   },
   "outputs": [],
   "source": [
    "Seq2SeqModel.__create_embeddings = classmethod(create_embeddings)"
   ]
  },
  {
   "cell_type": "markdown",
   "metadata": {},
   "source": [
    "#### Encoder\n",
    "\n",
    "The first RNN of the current architecture is called an *encoder* and serves for encoding an input sequence to a real-valued vector. Input of this RNN is an embedded input batch. Since sentences in the same batch could have different actual lengths, we also provide input lengths to avoid unnecessary computations. The final encoder state will be passed to the second RNN (decoder), which we will create soon. \n",
    "\n",
    "- TensorFlow provides a number of [RNN cells](https://www.tensorflow.org/api_guides/python/contrib.rnn#Core_RNN_Cells_for_use_with_TensorFlow_s_core_RNN_methods) ready for use. We suggest that you use [GRU cell](https://www.tensorflow.org/api_docs/python/tf/contrib/rnn/GRUCell), but you can also experiment with other types. \n",
    "- Wrap your cells with [DropoutWrapper](https://www.tensorflow.org/api_docs/python/tf/contrib/rnn/DropoutWrapper). Dropout is an important regularization technique for neural networks. Specify input keep probability using the dropout placeholder that we created before.\n",
    "- Combine the defined encoder cells with [Dynamic RNN](https://www.tensorflow.org/api_docs/python/tf/nn/dynamic_rnn). Use the embedded input batches and their lengths here.\n",
    "- Use *dtype=tf.float32* everywhere."
   ]
  },
  {
   "cell_type": "code",
   "execution_count": 328,
   "metadata": {
    "scrolled": false
   },
   "outputs": [],
   "source": [
    "def build_encoder(self, hidden_size):\n",
    "    \"\"\"Specifies encoder architecture and computes its output.\"\"\"\n",
    "    \n",
    "    # Create GRUCell with dropout.\n",
    "    if not useCUDNN:\n",
    "        encoder_cell = tf.nn.rnn_cell.GRUCell(hidden_size)\n",
    "        encoder_cell = tf.contrib.rnn.DropoutWrapper(encoder_cell, input_keep_prob=self.dropout_ph, dtype=tf.float32)\n",
    "        # Create RNN with the predefined cell.\n",
    "        _, encoder_cell_final_state = tf.nn.dynamic_rnn(cell=encoder_cell, \n",
    "                                                        inputs=self.input_batch_embedded,\n",
    "                                                        sequence_length=self.input_batch_lengths,\n",
    "                                                        dtype=tf.float32)    \n",
    "\n",
    "        self.final_encoder_state = encoder_cell_final_state\n",
    "        \n",
    "    else:\n",
    "\n",
    "        batch_size, n_time, x_depth = self.input_batch_embedded.shape\n",
    "        n_layer = 1\n",
    "\n",
    "        encoder_cell = tf.contrib.cudnn_rnn.CudnnCompatibleGRUCell(hidden_size)\n",
    "        encoder_cell = tf.contrib.rnn.DropoutWrapper(encoder_cell, input_keep_prob=self.dropout_ph, dtype=tf.float32)\n",
    "        # Create RNN with the predefined cell.\n",
    "        _, encoder_cell_final_state = tf.nn.dynamic_rnn(cell=encoder_cell, \n",
    "                                                        inputs=self.input_batch_embedded,\n",
    "                                                        sequence_length=self.input_batch_lengths,\n",
    "                                                        dtype=tf.float32)    \n",
    "\n",
    "        self.final_encoder_state = encoder_cell_final_state\n",
    "\n",
    "\n",
    "#         cudnn_gru = tf.contrib.cudnn_rnn.CudnnGRU(num_layers=n_layer, \n",
    "#                                                      num_units=hidden_size, \n",
    "#                                                      input_size=x_depth,\n",
    "#                                                      dropout=self.dropout_ph)\n",
    "#         param_cudnn = tf.Variable(tf.zeros([cudnn_gru.params_size()]), validate_shape=False)\n",
    "#         _, cudnn_final_state = cudnn_gru(tf.transpose(self.input_batch_embedded, [1, 0, 2]),\n",
    "#                                                   tf.zeros([n_layer, \n",
    "#                                                             self.batch_size,\n",
    "#                                                             hidden_size]), \n",
    "#                                                    param_cudnn)\n",
    "\n",
    "#         cudnn_final_state = tf.reshape(cudnn_final_state, shape=(self.batch_size, hidden_size))\n",
    "\n",
    "#         self.final_encoder_state = cudnn_final_state\n",
    "    \n"
   ]
  },
  {
   "cell_type": "code",
   "execution_count": 329,
   "metadata": {
    "scrolled": false
   },
   "outputs": [],
   "source": [
    "Seq2SeqModel.__build_encoder = classmethod(build_encoder)"
   ]
  },
  {
   "cell_type": "markdown",
   "metadata": {},
   "source": [
    "#### Decoder\n",
    "\n",
    "The second RNN is called a *decoder* and serves for generating the output sequence. In the simple seq2seq arcitecture, the input sequence is provided to the decoder only as the final state of the encoder. Obviously, it is a bottleneck and [Attention techniques](https://www.tensorflow.org/tutorials/seq2seq#background_on_the_attention_mechanism) can help to overcome it. So far, we do not need them to make our calculator work, but this would be a necessary ingredient for more advanced tasks. \n",
    "\n",
    "During training, decoder also uses information about the true output. It is feeded in as input symbol by symbol. However, during the prediction stage (which is called *inference* in this architecture), the decoder can only use its own generated output from the previous step to feed it in at the next step. Because of this difference (*training* vs *inference*), we will create two distinct instances, which will serve for the described scenarios.\n",
    "\n",
    "The picture below illustrates the point. It also shows our work with the special characters, e.g. look how the start symbol `^` is used. The transparent parts are ignored. In decoder, it is masked out in the loss computation. In encoder, the green state is considered as final and passed to the decoder. "
   ]
  },
  {
   "cell_type": "markdown",
   "metadata": {},
   "source": [
    "<img src=\"encoder-decoder-pic.png\" style=\"width: 500px;\">"
   ]
  },
  {
   "cell_type": "markdown",
   "metadata": {},
   "source": [
    "Now, it's time to implement the decoder:\n",
    " - First, we should create two [helpers](https://www.tensorflow.org/api_guides/python/contrib.seq2seq#Dynamic_Decoding). These classes help to determine the behaviour of the decoder. During the training time, we will use [TrainingHelper](https://www.tensorflow.org/api_docs/python/tf/contrib/seq2seq/TrainingHelper). For the inference we recommend to use [GreedyEmbeddingHelper](https://www.tensorflow.org/api_docs/python/tf/contrib/seq2seq/GreedyEmbeddingHelper).\n",
    " - To share all parameters during training and inference, we use one scope and set the flag 'reuse' to True at inference time. You might be interested to know more about how [variable scopes](https://www.tensorflow.org/programmers_guide/variables) work in TF. \n",
    " - To create the decoder itself, we will use [BasicDecoder](https://www.tensorflow.org/api_docs/python/tf/contrib/seq2seq/BasicDecoder) class. As previously, you should choose some RNN cell, e.g. GRU cell. To turn hidden states into logits, we will need a projection layer. One of the simple solutions is using [OutputProjectionWrapper](https://www.tensorflow.org/api_docs/python/tf/contrib/rnn/OutputProjectionWrapper).\n",
    " - For getting the predictions, it will be convinient to use [dynamic_decode](https://www.tensorflow.org/api_docs/python/tf/contrib/seq2seq/dynamic_decode). This function uses the provided decoder to perform decoding."
   ]
  },
  {
   "cell_type": "code",
   "execution_count": 280,
   "metadata": {
    "scrolled": false
   },
   "outputs": [],
   "source": [
    "def build_decoder(self, hidden_size, vocab_size, max_iter, start_symbol_id, end_symbol_id):\n",
    "    \"\"\"Specifies decoder architecture and computes the output.\n",
    "    \n",
    "        Uses different helpers:\n",
    "          - for train: feeding ground truth\n",
    "          - for inference: feeding generated output\n",
    "\n",
    "        As a result, self.train_outputs and self.infer_outputs are created. \n",
    "        Each of them contains two fields:\n",
    "          rnn_output (predicted logits)\n",
    "          sample_id (predictions).\n",
    "\n",
    "    \"\"\"\n",
    "    \n",
    "    # Use start symbols as the decoder inputs at the first time step.\n",
    "    batch_size = tf.shape(self.input_batch)[0]\n",
    "    start_tokens = tf.fill([batch_size], start_symbol_id)\n",
    "    ground_truth_as_input = tf.concat([tf.expand_dims(start_tokens, 1), self.ground_truth], 1)\n",
    "    \n",
    "    # Use the embedding layer defined before to lookup embedings for ground_truth_as_input. \n",
    "    self.ground_truth_embedded = tf.nn.embedding_lookup(self.embeddings, ground_truth_as_input)\n",
    "     \n",
    "    # Create TrainingHelper for the train stage.\n",
    "    train_helper = tf.contrib.seq2seq.TrainingHelper(self.ground_truth_embedded, \n",
    "                                                     self.ground_truth_lengths)\n",
    "    \n",
    "    # Create GreedyEmbeddingHelper for the inference stage.\n",
    "    # You should provide the embedding layer, start_tokens and index of the end symbol.\n",
    "    infer_helper = tf.contrib.seq2seq.GreedyEmbeddingHelper(self.embeddings, start_tokens, end_symbol_id)\n",
    "    \n",
    "  \n",
    "    def decode(helper, scope, reuse=None):\n",
    "        \"\"\"Creates decoder and return the results of the decoding with a given helper.\"\"\"\n",
    "        \n",
    "        with tf.variable_scope(scope, reuse=reuse):\n",
    "            # Create GRUCell with dropout. Do not forget to set the reuse flag properly.\n",
    "            if not useCUDNN:\n",
    "                decoder_cell = tf.nn.rnn_cell.GRUCell(hidden_size, reuse=reuse)\n",
    "            else:\n",
    "                cudnn_gru = tf.contrib.cudnn_rnn.CudnnCompatibleGRUCell(hidden_size, reuse=reuse)\n",
    "                decoder_cell = cudnn_gru\n",
    "\n",
    "            decoder_cell = tf.contrib.rnn.DropoutWrapper(decoder_cell, self.dropout_ph)\n",
    "            \n",
    "            # Create a projection wrapper.\n",
    "            decoder_cell = tf.contrib.rnn.OutputProjectionWrapper(decoder_cell, vocab_size, reuse=reuse)            \n",
    "            \n",
    "    \n",
    "            \n",
    "            # Create BasicDecoder, pass the defined cell, a helper, and initial state.\n",
    "            # The initial state should be equal to the final state of the encoder!\n",
    "            decoder = tf.contrib.seq2seq.BasicDecoder(decoder_cell, helper, self.final_encoder_state)\n",
    "            \n",
    "            # The first returning argument of dynamic_decode contains two fields:\n",
    "            #   rnn_output (predicted logits)\n",
    "            #   sample_id (predictions)\n",
    "            outputs, _, _ = tf.contrib.seq2seq.dynamic_decode(decoder=decoder, \n",
    "                                                              maximum_iterations=max_iter, \n",
    "                                                              output_time_major=False, \n",
    "                                                              impute_finished=True)\n",
    "\n",
    "            return outputs\n",
    "        \n",
    "    self.train_outputs = decode(train_helper, 'decode')\n",
    "    self.infer_outputs = decode(infer_helper, 'decode', reuse=True)"
   ]
  },
  {
   "cell_type": "code",
   "execution_count": 281,
   "metadata": {
    "scrolled": false
   },
   "outputs": [],
   "source": [
    "Seq2SeqModel.__build_decoder = classmethod(build_decoder)"
   ]
  },
  {
   "cell_type": "markdown",
   "metadata": {},
   "source": [
    "In this task we will use [sequence_loss](https://www.tensorflow.org/api_docs/python/tf/contrib/seq2seq/sequence_loss), which is a weighted cross-entropy loss for a sequence of logits. Take a moment to understand, what is your train logits and targets. Also note, that we do not want to take into account loss terms coming from padding symbols, so we will mask them out using weights.  "
   ]
  },
  {
   "cell_type": "code",
   "execution_count": 282,
   "metadata": {
    "scrolled": false
   },
   "outputs": [],
   "source": [
    "def compute_loss(self):\n",
    "    \"\"\"Computes sequence loss (masked cross-entopy loss with logits).\"\"\"\n",
    "    \n",
    "    self.mask_weights = tf.cast(tf.sequence_mask(self.ground_truth_lengths), dtype=tf.float32)\n",
    "    self.loss = tf.contrib.seq2seq.sequence_loss(self.train_outputs.rnn_output, self.ground_truth, self.mask_weights)"
   ]
  },
  {
   "cell_type": "code",
   "execution_count": 283,
   "metadata": {
    "scrolled": false
   },
   "outputs": [],
   "source": [
    "Seq2SeqModel.__compute_loss = classmethod(compute_loss)"
   ]
  },
  {
   "cell_type": "markdown",
   "metadata": {},
   "source": [
    "The last thing to specify is the optimization of the defined loss. \n",
    "We suggest that you use [optimize_loss](https://www.tensorflow.org/api_docs/python/tf/contrib/layers/optimize_loss) with Adam optimizer and a learning rate from the corresponding placeholder. You might also need to pass global step (e.g. as tf.train.get_global_step()) and clip gradients by 1.0."
   ]
  },
  {
   "cell_type": "code",
   "execution_count": 284,
   "metadata": {
    "scrolled": false
   },
   "outputs": [],
   "source": [
    "def perform_optimization(self):\n",
    "    \"\"\"Specifies train_op that optimizes self.loss.\"\"\"\n",
    "    \n",
    "    self.train_op = tf.contrib.layers.optimize_loss(\n",
    "        self.loss, \n",
    "        global_step=tf.train.get_global_step(), \n",
    "        learning_rate=self.learning_rate_ph,\n",
    "        optimizer='Adam',\n",
    "    clip_gradients=1.0)"
   ]
  },
  {
   "cell_type": "code",
   "execution_count": 285,
   "metadata": {
    "scrolled": false
   },
   "outputs": [],
   "source": [
    "Seq2SeqModel.__perform_optimization = classmethod(perform_optimization)"
   ]
  },
  {
   "cell_type": "markdown",
   "metadata": {},
   "source": [
    "Congratulations! You have specified all the parts of your network. You may have noticed, that we didn't deal with any real data yet, so what you have written is just recipies on how the network should function.\n",
    "Now we will put them to the constructor of our Seq2SeqModel class to use it in the next section. "
   ]
  },
  {
   "cell_type": "code",
   "execution_count": 286,
   "metadata": {
    "scrolled": false
   },
   "outputs": [],
   "source": [
    "def init_model(self, vocab_size, embeddings_size, hidden_size, \n",
    "               max_iter, start_symbol_id, end_symbol_id, padding_symbol_id,\n",
    "              batch_size, dropout_ph):\n",
    "    \n",
    "    self.batch_size = batch_size\n",
    "    self.dropout_ph = dropout_ph\n",
    "    \n",
    "    self.__declare_placeholders()\n",
    "    self.__create_embeddings(vocab_size, embeddings_size)\n",
    "    self.__build_encoder(hidden_size)\n",
    "    self.__build_decoder(hidden_size, vocab_size, max_iter, start_symbol_id, end_symbol_id)\n",
    "    \n",
    "    # Compute loss and back-propagate.\n",
    "    self.__compute_loss()\n",
    "    self.__perform_optimization()\n",
    "    \n",
    "    # Get predictions for evaluation.\n",
    "    self.train_predictions = self.train_outputs.sample_id\n",
    "    self.infer_predictions = self.infer_outputs.sample_id"
   ]
  },
  {
   "cell_type": "code",
   "execution_count": 287,
   "metadata": {
    "scrolled": false
   },
   "outputs": [],
   "source": [
    "Seq2SeqModel.__init__ = classmethod(init_model)"
   ]
  },
  {
   "cell_type": "markdown",
   "metadata": {},
   "source": [
    "## Train the network and predict output\n",
    "\n",
    "[Session.run](https://www.tensorflow.org/api_docs/python/tf/Session#run) is a point which initiates computations in the graph that we have defined. To train the network, we need to compute *self.train_op*. To predict output, we just need to compute *self.infer_predictions*. In any case, we need to feed actual data through the placeholders that we defined above. "
   ]
  },
  {
   "cell_type": "code",
   "execution_count": 313,
   "metadata": {
    "scrolled": false
   },
   "outputs": [],
   "source": [
    "def train_on_batch(self, session, X, X_seq_len, Y, Y_seq_len, learning_rate):\n",
    "    feed_dict = {\n",
    "            self.input_batch: X,\n",
    "            self.input_batch_lengths: X_seq_len,\n",
    "            self.ground_truth: Y,\n",
    "            self.ground_truth_lengths: Y_seq_len,\n",
    "            self.learning_rate_ph: learning_rate\n",
    "        }\n",
    "    pred, loss, _ = session.run([\n",
    "            self.train_predictions,\n",
    "            self.loss,\n",
    "            self.train_op], feed_dict=feed_dict)\n",
    "    return pred, loss"
   ]
  },
  {
   "cell_type": "code",
   "execution_count": 314,
   "metadata": {
    "scrolled": false
   },
   "outputs": [],
   "source": [
    "Seq2SeqModel.train_on_batch = classmethod(train_on_batch)"
   ]
  },
  {
   "cell_type": "markdown",
   "metadata": {},
   "source": [
    "We implemented two prediction functions: *predict_for_batch* and *predict_for_batch_with_loss*. The first one allows only to predict output for some input sequence, while the second one could compute loss because we provide also ground truth values. Both these functions might be useful since the first one could be used for predicting only, and the second one is helpful for validating results on not-training data during the training."
   ]
  },
  {
   "cell_type": "code",
   "execution_count": 315,
   "metadata": {
    "scrolled": false
   },
   "outputs": [],
   "source": [
    "def encoder_state_for_batch(self, session, X, X_seq_len):\n",
    "    feed_dict = {\n",
    "        self.input_batch: X,\n",
    "        self.input_batch_lengths: X_seq_len,\n",
    "    }\n",
    "    encoder_state = session.run([\n",
    "            self.final_encoder_state\n",
    "        ], feed_dict=feed_dict)[0]\n",
    "    return encoder_state\n",
    "\n",
    "\n",
    "def predict_for_batch(self, session, X, X_seq_len):\n",
    "    feed_dict = {\n",
    "        self.input_batch: X,\n",
    "        self.input_batch_lengths: X_seq_len,\n",
    "    }\n",
    "    pred = session.run([\n",
    "            self.infer_predictions\n",
    "        ], feed_dict=feed_dict)[0]\n",
    "    return pred\n",
    "\n",
    "def predict_for_batch_with_loss(self, session, X, X_seq_len, Y, Y_seq_len):\n",
    "    feed_dict = {\n",
    "        self.input_batch: X,\n",
    "        self.input_batch_lengths: X_seq_len,\n",
    "        self.ground_truth: Y,\n",
    "        self.ground_truth_lengths: Y_seq_len,\n",
    "    }\n",
    "    return session.run([\n",
    "            self.infer_predictions,\n",
    "            self.loss,\n",
    "            self.mask_weights\n",
    "        ], feed_dict=feed_dict)\n"
   ]
  },
  {
   "cell_type": "code",
   "execution_count": 316,
   "metadata": {
    "scrolled": false
   },
   "outputs": [],
   "source": [
    "Seq2SeqModel.predict_for_batch = classmethod(predict_for_batch)\n",
    "Seq2SeqModel.encoder_state_for_batch = classmethod(encoder_state_for_batch)\n",
    "Seq2SeqModel.predict_for_batch_with_loss = classmethod(predict_for_batch_with_loss)"
   ]
  },
  {
   "cell_type": "markdown",
   "metadata": {},
   "source": [
    "## Run your experiment\n",
    "\n",
    "Create *Seq2SeqModel* model with the following parameters:\n",
    " - *vocab_size* — number of tokens;\n",
    " - *embeddings_size* — dimension of embeddings, recommended value: 20;\n",
    " - *max_iter* — maximum number of steps in decoder, recommended value: 7;\n",
    " - *hidden_size* — size of hidden layers for RNN, recommended value: 512;\n",
    " - *start_symbol_id* — an index of the start token (`^`).\n",
    " - *end_symbol_id* — an index of the end token (`$`).\n",
    " - *padding_symbol_id* — an index of the padding token (`#`).\n",
    "\n",
    "Set hyperparameters. You might want to start with the following values and see how it works:\n",
    "- *batch_size*: 128;\n",
    "- at least 10 epochs;\n",
    "- value of *learning_rate*: 0.001\n",
    "- *dropout_keep_probability* equals to 0.5 for training (typical values for dropout probability are ranging from 0.1 to 0.5);\n",
    "- *max_len*: 20."
   ]
  },
  {
   "cell_type": "code",
   "execution_count": 317,
   "metadata": {
    "scrolled": false
   },
   "outputs": [
    {
     "data": {
      "text/plain": [
       "15"
      ]
     },
     "execution_count": 317,
     "metadata": {},
     "output_type": "execute_result"
    }
   ],
   "source": [
    "len(word2id.keys())"
   ]
  },
  {
   "cell_type": "code",
   "execution_count": 318,
   "metadata": {
    "scrolled": false
   },
   "outputs": [],
   "source": [
    "def build_model(batch_size, \n",
    "                hidden_size, \n",
    "                embeddings_size, \n",
    "                max_iter, \n",
    "                dropout_ph,\n",
    "                useCUDNN_):\n",
    "    tf.reset_default_graph()\n",
    "\n",
    "    useCUDNN = useCUDNN_\n",
    "\n",
    "    model = Seq2SeqModel(\n",
    "        vocab_size=len(word2id.keys()),\n",
    "        embeddings_size=embeddings_size,\n",
    "        hidden_size=hidden_size,\n",
    "        max_iter=max_iter,\n",
    "        start_symbol_id=word2id['^'],\n",
    "        end_symbol_id=word2id['$'],\n",
    "        padding_symbol_id=word2id['#'],\n",
    "        batch_size=batch_size,\n",
    "        dropout_ph=dropout_ph\n",
    "    )\n",
    "    \n",
    "    return model\n",
    "\n"
   ]
  },
  {
   "cell_type": "markdown",
   "metadata": {},
   "source": [
    "Finally, we are ready to run the training! A good indicator that everything works fine is decreasing loss during the training. You should account on the loss value equal to approximately 2.7 at the beginning of the training and near 1 after the 10th epoch."
   ]
  },
  {
   "cell_type": "code",
   "execution_count": 356,
   "metadata": {
    "scrolled": true
   },
   "outputs": [],
   "source": [
    "def train(model,\n",
    "          batch_size, \n",
    "          n_epochs=10, \n",
    "          learning_rate=0.001, \n",
    "          max_len=20,\n",
    "         verbose=False):\n",
    "    n_step = int(len(train_set) / batch_size)\n",
    "\n",
    "    config = tf.ConfigProto(log_device_placement=True)\n",
    "    config.gpu_options.allow_growth = True\n",
    "    config.log_device_placement = True\n",
    "    session = tf.Session(config=config)\n",
    "    session.run(tf.global_variables_initializer())\n",
    "\n",
    "    invalid_number_prediction_counts = []\n",
    "    all_model_predictions = []\n",
    "    all_ground_truth = []\n",
    "\n",
    "    print('Start training... \\n')\n",
    "    for epoch in range(n_epochs):  \n",
    "        random.shuffle(train_set)\n",
    "        random.shuffle(test_set)\n",
    "\n",
    "        print('Train: epoch', epoch + 1)\n",
    "\n",
    "\n",
    "        for n_iter, (X_batch, Y_batch) in enumerate(generate_batches(train_set, batch_size=batch_size)):\n",
    "            ######################################\n",
    "            ######### YOUR CODE HERE #############\n",
    "            ######################################\n",
    "            # prepare the data (X_batch and Y_batch) for training\n",
    "            # using function batch_to_ids\n",
    "            X, X_len = batch_to_ids(X_batch, word2id, max_len)\n",
    "            Y, Y_len = batch_to_ids(Y_batch, word2id, max_len)\n",
    "            predictions, loss = model.train_on_batch(session, \n",
    "                                                     X, X_len, Y, Y_len, \n",
    "                                                     learning_rate=learning_rate)\n",
    "\n",
    "    #         encoder_state = model.encoder_state_for_batch(session, X, X_len)\n",
    "    #         print(\"X\", X[:10], X_len[:10])\n",
    "    #         print(\"Y\", Y[:10], Y_len[:10])\n",
    "    #         print(\"encoder_state\", encoder_state[:10])\n",
    "    #         print(predictions[:10], loss)\n",
    "    #         raise RuntimeError(\"foo\")\n",
    "\n",
    "            if n_iter % 200 == 1:\n",
    "                print(\"Epoch: [%d/%d], step: [%d/%d], loss: %f\" % (epoch + 1, n_epochs, n_iter + 1, n_step, loss))\n",
    "\n",
    "        X_sent, Y_sent = next(generate_batches(test_set, batch_size=batch_size))\n",
    "        ######################################\n",
    "        ######### YOUR CODE HERE #############\n",
    "        ######################################\n",
    "        # prepare test data (X_sent and Y_sent) for predicting \n",
    "        # quality and computing value of the loss function\n",
    "        # using function batch_to_ids\n",
    "        X_test, X_test_len = batch_to_ids(X_sent, word2id, max_len)\n",
    "        Y_test, Y_test_len = batch_to_ids(Y_sent, word2id, max_len)\n",
    "\n",
    "        if verbose:\n",
    "            predictions, loss, weights = model.predict_for_batch_with_loss(session, X_test, X_test_len, Y_test, Y_test_len)\n",
    "            print('Test: epoch', epoch + 1, 'loss:', loss,)\n",
    "            print(\"Weights\", weights[0])\n",
    "            for x, y, p  in list(zip(X, Y, predictions))[:3]:\n",
    "                print(\"P: \", p)\n",
    "                print('X:',''.join(ids_to_sentence(x, id2word)))\n",
    "                print('Y:',''.join(ids_to_sentence(y, id2word)))\n",
    "                print('O:',''.join(ids_to_sentence(p, id2word)))\n",
    "                print('')\n",
    "\n",
    "        model_predictions = []\n",
    "        ground_truth = []\n",
    "        invalid_number_prediction_count = 0\n",
    "        # For the whole test set calculate ground-truth values (as integer numbers)\n",
    "        # and prediction values (also as integers) to calculate metrics.\n",
    "        # If generated by model number is not correct (e.g. '1-1'), \n",
    "        # increase invalid_number_prediction_count and don't append this and corresponding\n",
    "        # ground-truth value to the arrays.\n",
    "        i = 0\n",
    "\n",
    "        for X_batch, Y_batch in generate_batches(test_set, batch_size=batch_size):\n",
    "            X, X_len = batch_to_ids(X_batch, word2id, max_len)        \n",
    "\n",
    "            if len(X) != batch_size:\n",
    "                break\n",
    "\n",
    "            predictions = model.predict_for_batch(session, X, X_len)\n",
    "\n",
    "            for x, p, y in list(zip(X_batch, predictions, Y_batch)):\n",
    "                try:\n",
    "                    p = sentence_to_number(ids_to_sentence(p, id2word))\n",
    "\n",
    "                    model_predictions.append(p)\n",
    "                    ground_truth.append(int(y))\n",
    "                except ValueError:\n",
    "                    invalid_number_prediction_count += 1\n",
    "\n",
    "                i += 1\n",
    "\n",
    "        all_model_predictions.append(model_predictions)\n",
    "        all_ground_truth.append(ground_truth)\n",
    "        invalid_number_prediction_counts.append(invalid_number_prediction_count)\n",
    "\n",
    "    print('\\n...training finished.')\n",
    "    \n",
    "    return all_ground_truth, all_model_predictions, invalid_number_prediction_counts"
   ]
  },
  {
   "cell_type": "code",
   "execution_count": 352,
   "metadata": {
    "scrolled": true
   },
   "outputs": [
    {
     "name": "stdout",
     "output_type": "stream",
     "text": [
      "Start training... \n",
      "\n",
      "Train: epoch 1\n",
      "Epoch: [1/1], step: [2/625], loss: 2.604355\n",
      "Epoch: [1/1], step: [202/625], loss: 1.782147\n",
      "Epoch: [1/1], step: [402/625], loss: 1.743497\n",
      "Epoch: [1/1], step: [602/625], loss: 1.624780\n",
      "Test: epoch 1 loss: 1.61907\n",
      "Weights [ 1.  1.  1.  1.  0.  0.]\n",
      "P:  [ 8 14 14 14  1  0]\n",
      "X: 6955+8465$\n",
      "Y: 15420$\n",
      "O: 4000$^\n",
      "\n",
      "P:  [ 5  5  6  6 11  1]\n",
      "X: 6019+1805$\n",
      "Y: 7824$#\n",
      "O: 11227$\n",
      "\n",
      "P:  [ 4  9 10 10 10  1]\n",
      "X: 8024+6576$\n",
      "Y: 14600$\n",
      "O: -5666$\n",
      "\n",
      "\n",
      "...training finished.\n",
      "CPU times: user 55.9 s, sys: 6.44 s, total: 1min 2s\n",
      "Wall time: 23.2 s\n"
     ]
    }
   ],
   "source": [
    "model = build_model(batch_size=128,\n",
    "                hidden_size=512, \n",
    "                embeddings_size=20, \n",
    "                max_iter=7, \n",
    "                dropout_ph=0.5,\n",
    "                useCUDNN_=True)                    \n",
    "%time all_ground_truth, all_model_predictions, invalid_number_prediction_counts = \\\n",
    "   train(model, batch_size=128, n_epochs=1, learning_rate=0.001, max_len=20)"
   ]
  },
  {
   "cell_type": "code",
   "execution_count": 342,
   "metadata": {
    "scrolled": true
   },
   "outputs": [
    {
     "name": "stdout",
     "output_type": "stream",
     "text": [
      "Start training... \n",
      "\n",
      "Train: epoch 1\n",
      "Epoch: [1/1], step: [2/625], loss: 2.622044\n",
      "Epoch: [1/1], step: [202/625], loss: 1.818479\n",
      "Epoch: [1/1], step: [402/625], loss: 1.732759\n",
      "Epoch: [1/1], step: [602/625], loss: 1.606046\n",
      "Test: epoch 1 loss: 1.64765\n",
      "Weights [ 1.  1.  1.  1.  1.  1.]\n",
      "P:  [ 4  5  7 13 13  1]\n",
      "X: 1266-5791$\n",
      "Y: -4525$\n",
      "O: -1399$\n",
      "\n",
      "P:  [ 5 11 11 11  6  1]\n",
      "X: 6828-8141$\n",
      "Y: -1313$\n",
      "O: 17772$\n",
      "\n",
      "P:  [12 10 13 13  1  0]\n",
      "X: 7535+1062$\n",
      "Y: 8597$#\n",
      "O: 8699$^\n",
      "\n",
      "3922-5450 [ 4  5  7 13 13  1] -1528\n",
      "after conversion 3922-5450 -1399 -1528\n",
      "8398+7821 [ 5 10  5 11  6  1] 16219\n",
      "after conversion 8398+7821 16172 16219\n",
      "2398+4825 [10 14 13 13  1  0] 7223\n",
      "after conversion 2398+4825 6099 7223\n",
      "2088-6228 [ 4  7 14 13 13  1] -4140\n",
      "after conversion 2088-6228 -3099 -4140\n",
      "9816+1968 [ 5  5 13  6  6  1] 11784\n",
      "after conversion 9816+1968 11922 11784\n",
      "\n",
      "...training finished.\n",
      "CPU times: user 54.4 s, sys: 6.08 s, total: 1min\n",
      "Wall time: 22.6 s\n"
     ]
    }
   ],
   "source": [
    "model = build_model(batch_size=128,\n",
    "                hidden_size=512, \n",
    "                embeddings_size=20, \n",
    "                max_iter=7, \n",
    "                dropout_ph=0.5,\n",
    "                useCUDNN_=False)                    \n",
    "%time train(model, batch_size=128, n_epochs=1, learning_rate=0.001, max_len=20)"
   ]
  },
  {
   "cell_type": "markdown",
   "metadata": {},
   "source": [
    "## Evaluate results\n",
    "\n",
    "Because our task is simple and the output is straight-forward, we will use [MAE](https://en.wikipedia.org/wiki/Mean_absolute_error) metric to evaluate the trained model during the epochs. Compute the value of the metric for the output from each epoch."
   ]
  },
  {
   "cell_type": "code",
   "execution_count": 333,
   "metadata": {
    "scrolled": false
   },
   "outputs": [],
   "source": [
    "from sklearn.metrics import mean_absolute_error"
   ]
  },
  {
   "cell_type": "code",
   "execution_count": 346,
   "metadata": {
    "scrolled": false
   },
   "outputs": [
    {
     "name": "stdout",
     "output_type": "stream",
     "text": [
      "Epoch: 1, MAE: 1224.431891, Invalid numbers: 20000\n"
     ]
    }
   ],
   "source": [
    "for i, (gts, predictions, invalid_number_prediction_count) in enumerate(zip(all_ground_truth,\n",
    "                                                                            all_model_predictions,\n",
    "                                                                            invalid_number_prediction_counts), 1):\n",
    "    mae = mean_absolute_error(gts, predictions)\n",
    "    print(\"Epoch: %i, MAE: %f, Invalid numbers: %i\" % (i, mae, invalid_number_prediction_count))"
   ]
  },
  {
   "cell_type": "code",
   "execution_count": 357,
   "metadata": {
    "scrolled": true
   },
   "outputs": [],
   "source": [
    "def full_run(batch_size=128,\n",
    "             hidden_size=512,\n",
    "             embeddings_size=20,\n",
    "             max_iter=7,\n",
    "             dropout_ph=0.5,\n",
    "             n_epochs=10,\n",
    "             learning_rate=0.001,\n",
    "             max_len=20,\n",
    "            verbose=False):\n",
    "    model = build_model(batch_size=batch_size,\n",
    "                    hidden_size=hidden_size, \n",
    "                    embeddings_size=embeddings_size, \n",
    "                    max_iter=max_iter, \n",
    "                    dropout_ph=dropout_ph,\n",
    "                    useCUDNN_=True)                    \n",
    "    all_ground_truth, all_model_predictions, invalid_number_prediction_counts = \\\n",
    "       train(model, batch_size=batch_size, n_epochs=n_epochs, learning_rate=learning_rate, max_len=max_len,\n",
    "            verbose=verbose)\n",
    "    for i, (gts, predictions, invalid_number_prediction_count) in enumerate(zip(all_ground_truth,\n",
    "                                                                                all_model_predictions,\n",
    "                                                                                invalid_number_prediction_counts), 1):\n",
    "        mae = mean_absolute_error(gts, predictions)\n",
    "        print(\"Epoch: %i, MAE: %f, Invalid numbers: %i\" % (i, mae, invalid_number_prediction_count))"
   ]
  },
  {
   "cell_type": "code",
   "execution_count": 358,
   "metadata": {
    "scrolled": false
   },
   "outputs": [
    {
     "name": "stdout",
     "output_type": "stream",
     "text": [
      "Start training... \n",
      "\n",
      "Train: epoch 1\n",
      "Epoch: [1/10], step: [2/625], loss: 2.600281\n",
      "Epoch: [1/10], step: [202/625], loss: 1.828840\n",
      "Epoch: [1/10], step: [402/625], loss: 1.733090\n",
      "Epoch: [1/10], step: [602/625], loss: 1.641656\n",
      "Train: epoch 2\n",
      "Epoch: [2/10], step: [2/625], loss: 1.592201\n",
      "Epoch: [2/10], step: [202/625], loss: 1.590491\n",
      "Epoch: [2/10], step: [402/625], loss: 1.476446\n",
      "Epoch: [2/10], step: [602/625], loss: 1.443359\n",
      "Train: epoch 3\n",
      "Epoch: [3/10], step: [2/625], loss: 1.469482\n",
      "Epoch: [3/10], step: [202/625], loss: 1.429003\n",
      "Epoch: [3/10], step: [402/625], loss: 1.405950\n",
      "Epoch: [3/10], step: [602/625], loss: 1.355930\n",
      "Train: epoch 4\n",
      "Epoch: [4/10], step: [2/625], loss: 1.342787\n",
      "Epoch: [4/10], step: [202/625], loss: 1.354716\n",
      "Epoch: [4/10], step: [402/625], loss: 1.327212\n",
      "Epoch: [4/10], step: [602/625], loss: 1.344913\n",
      "Train: epoch 5\n",
      "Epoch: [5/10], step: [2/625], loss: 1.307076\n",
      "Epoch: [5/10], step: [202/625], loss: 1.281181\n",
      "Epoch: [5/10], step: [402/625], loss: 1.312296\n",
      "Epoch: [5/10], step: [602/625], loss: 1.307156\n",
      "Train: epoch 6\n",
      "Epoch: [6/10], step: [2/625], loss: 1.284865\n",
      "Epoch: [6/10], step: [202/625], loss: 1.227177\n",
      "Epoch: [6/10], step: [402/625], loss: 1.273510\n",
      "Epoch: [6/10], step: [602/625], loss: 1.222971\n",
      "Train: epoch 7\n",
      "Epoch: [7/10], step: [2/625], loss: 1.209155\n",
      "Epoch: [7/10], step: [202/625], loss: 1.164704\n",
      "Epoch: [7/10], step: [402/625], loss: 1.173175\n",
      "Epoch: [7/10], step: [602/625], loss: 1.133019\n",
      "Train: epoch 8\n",
      "Epoch: [8/10], step: [2/625], loss: 1.109362\n",
      "Epoch: [8/10], step: [202/625], loss: 1.106981\n",
      "Epoch: [8/10], step: [402/625], loss: 1.027103\n",
      "Epoch: [8/10], step: [602/625], loss: 1.048715\n",
      "Train: epoch 9\n",
      "Epoch: [9/10], step: [2/625], loss: 1.060759\n",
      "Epoch: [9/10], step: [202/625], loss: 0.967256\n",
      "Epoch: [9/10], step: [402/625], loss: 1.029666\n",
      "Epoch: [9/10], step: [602/625], loss: 1.011265\n",
      "Train: epoch 10\n",
      "Epoch: [10/10], step: [2/625], loss: 0.969797\n",
      "Epoch: [10/10], step: [202/625], loss: 0.996314\n",
      "Epoch: [10/10], step: [402/625], loss: 0.958564\n",
      "Epoch: [10/10], step: [602/625], loss: 0.970380\n",
      "\n",
      "...training finished.\n",
      "Epoch: 1, MAE: 1216.181340, Invalid numbers: 0\n",
      "Epoch: 2, MAE: 493.535757, Invalid numbers: 0\n",
      "Epoch: 3, MAE: 340.270333, Invalid numbers: 0\n",
      "Epoch: 4, MAE: 258.525290, Invalid numbers: 0\n",
      "Epoch: 5, MAE: 211.520583, Invalid numbers: 0\n",
      "Epoch: 6, MAE: 156.978515, Invalid numbers: 1\n",
      "Epoch: 7, MAE: 98.351630, Invalid numbers: 1\n",
      "Epoch: 8, MAE: 72.119091, Invalid numbers: 0\n",
      "Epoch: 9, MAE: 59.505860, Invalid numbers: 2\n",
      "Epoch: 10, MAE: 52.126152, Invalid numbers: 0\n"
     ]
    }
   ],
   "source": [
    "full_run()"
   ]
  },
  {
   "cell_type": "code",
   "execution_count": 359,
   "metadata": {
    "scrolled": true
   },
   "outputs": [
    {
     "name": "stdout",
     "output_type": "stream",
     "text": [
      "Start training... \n",
      "\n",
      "Train: epoch 1\n",
      "Epoch: [1/10], step: [2/625], loss: 2.603677\n",
      "Epoch: [1/10], step: [202/625], loss: 1.775898\n",
      "Epoch: [1/10], step: [402/625], loss: 1.641967\n",
      "Epoch: [1/10], step: [602/625], loss: 1.534500\n",
      "Train: epoch 2\n",
      "Epoch: [2/10], step: [2/625], loss: 1.519494\n",
      "Epoch: [2/10], step: [202/625], loss: 1.463384\n",
      "Epoch: [2/10], step: [402/625], loss: 1.420957\n",
      "Epoch: [2/10], step: [602/625], loss: 1.408880\n",
      "Train: epoch 3\n",
      "Epoch: [3/10], step: [2/625], loss: 1.370635\n",
      "Epoch: [3/10], step: [202/625], loss: 1.354104\n",
      "Epoch: [3/10], step: [402/625], loss: 1.311464\n",
      "Epoch: [3/10], step: [602/625], loss: 1.289641\n",
      "Train: epoch 4\n",
      "Epoch: [4/10], step: [2/625], loss: 1.297123\n",
      "Epoch: [4/10], step: [202/625], loss: 1.277536\n",
      "Epoch: [4/10], step: [402/625], loss: 1.225788\n",
      "Epoch: [4/10], step: [602/625], loss: 1.234797\n",
      "Train: epoch 5\n",
      "Epoch: [5/10], step: [2/625], loss: 1.216037\n",
      "Epoch: [5/10], step: [202/625], loss: 1.191995\n",
      "Epoch: [5/10], step: [402/625], loss: 1.165012\n",
      "Epoch: [5/10], step: [602/625], loss: 1.150132\n",
      "Train: epoch 6\n",
      "Epoch: [6/10], step: [2/625], loss: 1.124914\n",
      "Epoch: [6/10], step: [202/625], loss: 1.063173\n",
      "Epoch: [6/10], step: [402/625], loss: 1.087123\n",
      "Epoch: [6/10], step: [602/625], loss: 1.036283\n",
      "Train: epoch 7\n",
      "Epoch: [7/10], step: [2/625], loss: 1.046512\n",
      "Epoch: [7/10], step: [202/625], loss: 1.013645\n",
      "Epoch: [7/10], step: [402/625], loss: 0.973785\n",
      "Epoch: [7/10], step: [602/625], loss: 0.952929\n",
      "Train: epoch 8\n",
      "Epoch: [8/10], step: [2/625], loss: 0.937449\n",
      "Epoch: [8/10], step: [202/625], loss: 0.962817\n",
      "Epoch: [8/10], step: [402/625], loss: 0.931087\n",
      "Epoch: [8/10], step: [602/625], loss: 0.930621\n",
      "Train: epoch 9\n",
      "Epoch: [9/10], step: [2/625], loss: 0.884102\n",
      "Epoch: [9/10], step: [202/625], loss: 0.885852\n",
      "Epoch: [9/10], step: [402/625], loss: 0.893429\n",
      "Epoch: [9/10], step: [602/625], loss: 0.862232\n",
      "Train: epoch 10\n",
      "Epoch: [10/10], step: [2/625], loss: 0.869989\n",
      "Epoch: [10/10], step: [202/625], loss: 0.893593\n",
      "Epoch: [10/10], step: [402/625], loss: 0.845203\n",
      "Epoch: [10/10], step: [602/625], loss: 0.848745\n",
      "\n",
      "...training finished.\n",
      "Epoch: 1, MAE: 694.782101, Invalid numbers: 0\n",
      "Epoch: 2, MAE: 314.607352, Invalid numbers: 1\n",
      "Epoch: 3, MAE: 206.019833, Invalid numbers: 1\n",
      "Epoch: 4, MAE: 147.259215, Invalid numbers: 0\n",
      "Epoch: 5, MAE: 93.707332, Invalid numbers: 0\n",
      "Epoch: 6, MAE: 63.226062, Invalid numbers: 0\n",
      "Epoch: 7, MAE: 77.155198, Invalid numbers: 0\n",
      "Epoch: 8, MAE: 33.365385, Invalid numbers: 0\n",
      "Epoch: 9, MAE: 32.870994, Invalid numbers: 0\n",
      "Epoch: 10, MAE: 27.171074, Invalid numbers: 0\n"
     ]
    }
   ],
   "source": [
    "full_run(dropout_ph=0.8)"
   ]
  },
  {
   "cell_type": "code",
   "execution_count": 360,
   "metadata": {},
   "outputs": [
    {
     "name": "stdout",
     "output_type": "stream",
     "text": [
      "Start training... \n",
      "\n",
      "Train: epoch 1\n",
      "Epoch: [1/10], step: [2/625], loss: 2.670555\n",
      "Epoch: [1/10], step: [202/625], loss: 1.880350\n",
      "Epoch: [1/10], step: [402/625], loss: 1.860243\n",
      "Epoch: [1/10], step: [602/625], loss: 1.782593\n",
      "Train: epoch 2\n",
      "Epoch: [2/10], step: [2/625], loss: 1.767631\n",
      "Epoch: [2/10], step: [202/625], loss: 1.702462\n",
      "Epoch: [2/10], step: [402/625], loss: 1.706124\n",
      "Epoch: [2/10], step: [602/625], loss: 1.650173\n",
      "Train: epoch 3\n",
      "Epoch: [3/10], step: [2/625], loss: 1.648738\n",
      "Epoch: [3/10], step: [202/625], loss: 1.572958\n",
      "Epoch: [3/10], step: [402/625], loss: 1.557724\n",
      "Epoch: [3/10], step: [602/625], loss: 1.557935\n",
      "Train: epoch 4\n",
      "Epoch: [4/10], step: [2/625], loss: 1.586308\n",
      "Epoch: [4/10], step: [202/625], loss: 1.518857\n",
      "Epoch: [4/10], step: [402/625], loss: 1.568607\n",
      "Epoch: [4/10], step: [602/625], loss: 1.484199\n",
      "Train: epoch 5\n",
      "Epoch: [5/10], step: [2/625], loss: 1.490918\n",
      "Epoch: [5/10], step: [202/625], loss: 1.518623\n",
      "Epoch: [5/10], step: [402/625], loss: 1.505312\n",
      "Epoch: [5/10], step: [602/625], loss: 1.494976\n",
      "Train: epoch 6\n",
      "Epoch: [6/10], step: [2/625], loss: 1.476119\n",
      "Epoch: [6/10], step: [202/625], loss: 1.458577\n",
      "Epoch: [6/10], step: [402/625], loss: 1.498554\n",
      "Epoch: [6/10], step: [602/625], loss: 1.444160\n",
      "Train: epoch 7\n",
      "Epoch: [7/10], step: [2/625], loss: 1.453177\n",
      "Epoch: [7/10], step: [202/625], loss: 1.458700\n",
      "Epoch: [7/10], step: [402/625], loss: 1.411391\n",
      "Epoch: [7/10], step: [602/625], loss: 1.440430\n",
      "Train: epoch 8\n",
      "Epoch: [8/10], step: [2/625], loss: 1.420845\n",
      "Epoch: [8/10], step: [202/625], loss: 1.472299\n",
      "Epoch: [8/10], step: [402/625], loss: 1.445014\n",
      "Epoch: [8/10], step: [602/625], loss: 1.441458\n",
      "Train: epoch 9\n",
      "Epoch: [9/10], step: [2/625], loss: 1.346234\n",
      "Epoch: [9/10], step: [202/625], loss: 1.411383\n",
      "Epoch: [9/10], step: [402/625], loss: 1.345943\n",
      "Epoch: [9/10], step: [602/625], loss: 1.313204\n",
      "Train: epoch 10\n",
      "Epoch: [10/10], step: [2/625], loss: 1.340109\n",
      "Epoch: [10/10], step: [202/625], loss: 1.376752\n",
      "Epoch: [10/10], step: [402/625], loss: 1.254913\n",
      "Epoch: [10/10], step: [602/625], loss: 1.226006\n",
      "\n",
      "...training finished.\n",
      "Epoch: 1, MAE: 3104.288411, Invalid numbers: 0\n",
      "Epoch: 2, MAE: 1518.931390, Invalid numbers: 0\n",
      "Epoch: 3, MAE: 1058.845946, Invalid numbers: 1\n",
      "Epoch: 4, MAE: 872.813652, Invalid numbers: 0\n",
      "Epoch: 5, MAE: 837.970052, Invalid numbers: 0\n",
      "Epoch: 6, MAE: 771.307492, Invalid numbers: 0\n",
      "Epoch: 7, MAE: 720.674379, Invalid numbers: 0\n",
      "Epoch: 8, MAE: 686.631360, Invalid numbers: 0\n",
      "Epoch: 9, MAE: 595.957732, Invalid numbers: 0\n",
      "Epoch: 10, MAE: 569.919822, Invalid numbers: 0\n"
     ]
    }
   ],
   "source": [
    "full_run(embeddings_size=5)"
   ]
  },
  {
   "cell_type": "code",
   "execution_count": 361,
   "metadata": {},
   "outputs": [
    {
     "name": "stdout",
     "output_type": "stream",
     "text": [
      "Start training... \n",
      "\n",
      "Train: epoch 1\n",
      "Epoch: [1/10], step: [2/625], loss: 2.782417\n",
      "Epoch: [1/10], step: [202/625], loss: 1.898413\n",
      "Epoch: [1/10], step: [402/625], loss: 1.797182\n",
      "Epoch: [1/10], step: [602/625], loss: 1.765996\n",
      "Train: epoch 2\n",
      "Epoch: [2/10], step: [2/625], loss: 1.795768\n",
      "Epoch: [2/10], step: [202/625], loss: 1.794916\n",
      "Epoch: [2/10], step: [402/625], loss: 1.721537\n",
      "Epoch: [2/10], step: [602/625], loss: 1.655010\n",
      "Train: epoch 3\n",
      "Epoch: [3/10], step: [2/625], loss: 1.683367\n",
      "Epoch: [3/10], step: [202/625], loss: 1.654192\n",
      "Epoch: [3/10], step: [402/625], loss: 1.584582\n",
      "Epoch: [3/10], step: [602/625], loss: 1.615345\n",
      "Train: epoch 4\n",
      "Epoch: [4/10], step: [2/625], loss: 1.619619\n",
      "Epoch: [4/10], step: [202/625], loss: 1.595768\n",
      "Epoch: [4/10], step: [402/625], loss: 1.556288\n",
      "Epoch: [4/10], step: [602/625], loss: 1.551000\n",
      "Train: epoch 5\n",
      "Epoch: [5/10], step: [2/625], loss: 1.532724\n",
      "Epoch: [5/10], step: [202/625], loss: 1.570427\n",
      "Epoch: [5/10], step: [402/625], loss: 1.536277\n",
      "Epoch: [5/10], step: [602/625], loss: 1.524324\n",
      "Train: epoch 6\n",
      "Epoch: [6/10], step: [2/625], loss: 1.522741\n",
      "Epoch: [6/10], step: [202/625], loss: 1.485617\n",
      "Epoch: [6/10], step: [402/625], loss: 1.536950\n",
      "Epoch: [6/10], step: [602/625], loss: 1.472239\n",
      "Train: epoch 7\n",
      "Epoch: [7/10], step: [2/625], loss: 1.496919\n",
      "Epoch: [7/10], step: [202/625], loss: 1.485910\n",
      "Epoch: [7/10], step: [402/625], loss: 1.471972\n",
      "Epoch: [7/10], step: [602/625], loss: 1.453509\n",
      "Train: epoch 8\n",
      "Epoch: [8/10], step: [2/625], loss: 1.423632\n",
      "Epoch: [8/10], step: [202/625], loss: 1.437203\n",
      "Epoch: [8/10], step: [402/625], loss: 1.427589\n",
      "Epoch: [8/10], step: [602/625], loss: 1.425075\n",
      "Train: epoch 9\n",
      "Epoch: [9/10], step: [2/625], loss: 1.455700\n",
      "Epoch: [9/10], step: [202/625], loss: 1.444612\n",
      "Epoch: [9/10], step: [402/625], loss: 1.438808\n",
      "Epoch: [9/10], step: [602/625], loss: 1.401084\n",
      "Train: epoch 10\n",
      "Epoch: [10/10], step: [2/625], loss: 1.422761\n",
      "Epoch: [10/10], step: [202/625], loss: 1.417696\n",
      "Epoch: [10/10], step: [402/625], loss: 1.421243\n",
      "Epoch: [10/10], step: [602/625], loss: 1.437540\n",
      "\n",
      "...training finished.\n",
      "Epoch: 1, MAE: 3201.556390, Invalid numbers: 0\n",
      "Epoch: 2, MAE: 1626.504758, Invalid numbers: 0\n",
      "Epoch: 3, MAE: 1010.769196, Invalid numbers: 3\n",
      "Epoch: 4, MAE: 770.454828, Invalid numbers: 0\n",
      "Epoch: 5, MAE: 652.047426, Invalid numbers: 0\n",
      "Epoch: 6, MAE: 550.706831, Invalid numbers: 0\n",
      "Epoch: 7, MAE: 479.205228, Invalid numbers: 0\n",
      "Epoch: 8, MAE: 446.028946, Invalid numbers: 0\n",
      "Epoch: 9, MAE: 422.129107, Invalid numbers: 0\n",
      "Epoch: 10, MAE: 393.866236, Invalid numbers: 0\n"
     ]
    }
   ],
   "source": [
    "full_run(hidden_size=64)"
   ]
  },
  {
   "cell_type": "code",
   "execution_count": 362,
   "metadata": {},
   "outputs": [
    {
     "name": "stdout",
     "output_type": "stream",
     "text": [
      "Start training... \n",
      "\n",
      "Train: epoch 1\n",
      "Epoch: [1/10], step: [2/625], loss: 2.516222\n",
      "Epoch: [1/10], step: [202/625], loss: 1.793631\n",
      "Epoch: [1/10], step: [402/625], loss: 1.659741\n",
      "Epoch: [1/10], step: [602/625], loss: 1.611633\n",
      "Train: epoch 2\n",
      "Epoch: [2/10], step: [2/625], loss: 1.558931\n",
      "Epoch: [2/10], step: [202/625], loss: 1.452084\n",
      "Epoch: [2/10], step: [402/625], loss: 1.419465\n",
      "Epoch: [2/10], step: [602/625], loss: 1.403391\n",
      "Train: epoch 3\n",
      "Epoch: [3/10], step: [2/625], loss: 1.424980\n",
      "Epoch: [3/10], step: [202/625], loss: 1.366709\n",
      "Epoch: [3/10], step: [402/625], loss: 1.344683\n",
      "Epoch: [3/10], step: [602/625], loss: 1.303705\n",
      "Train: epoch 4\n",
      "Epoch: [4/10], step: [2/625], loss: 1.315607\n",
      "Epoch: [4/10], step: [202/625], loss: 1.279300\n",
      "Epoch: [4/10], step: [402/625], loss: 1.255463\n",
      "Epoch: [4/10], step: [602/625], loss: 1.170650\n",
      "Train: epoch 5\n",
      "Epoch: [5/10], step: [2/625], loss: 1.197917\n",
      "Epoch: [5/10], step: [202/625], loss: 1.096056\n",
      "Epoch: [5/10], step: [402/625], loss: 1.119534\n",
      "Epoch: [5/10], step: [602/625], loss: 1.054927\n",
      "Train: epoch 6\n",
      "Epoch: [6/10], step: [2/625], loss: 1.033523\n",
      "Epoch: [6/10], step: [202/625], loss: 1.006290\n",
      "Epoch: [6/10], step: [402/625], loss: 1.048023\n",
      "Epoch: [6/10], step: [602/625], loss: 0.961204\n",
      "Train: epoch 7\n",
      "Epoch: [7/10], step: [2/625], loss: 0.992310\n",
      "Epoch: [7/10], step: [202/625], loss: 0.975239\n",
      "Epoch: [7/10], step: [402/625], loss: 1.004529\n",
      "Epoch: [7/10], step: [602/625], loss: 0.969285\n",
      "Train: epoch 8\n",
      "Epoch: [8/10], step: [2/625], loss: 0.929632\n",
      "Epoch: [8/10], step: [202/625], loss: 0.934124\n",
      "Epoch: [8/10], step: [402/625], loss: 0.839520\n",
      "Epoch: [8/10], step: [602/625], loss: 0.893291\n",
      "Train: epoch 9\n",
      "Epoch: [9/10], step: [2/625], loss: 0.834748\n",
      "Epoch: [9/10], step: [202/625], loss: 0.835571\n",
      "Epoch: [9/10], step: [402/625], loss: 0.784207\n",
      "Epoch: [9/10], step: [602/625], loss: 0.729417\n",
      "Train: epoch 10\n",
      "Epoch: [10/10], step: [2/625], loss: 0.768084\n",
      "Epoch: [10/10], step: [202/625], loss: 0.708877\n",
      "Epoch: [10/10], step: [402/625], loss: 0.652070\n",
      "Epoch: [10/10], step: [602/625], loss: 0.620718\n",
      "\n",
      "...training finished.\n",
      "Epoch: 1, MAE: 811.221805, Invalid numbers: 0\n",
      "Epoch: 2, MAE: 414.275491, Invalid numbers: 0\n",
      "Epoch: 3, MAE: 248.623397, Invalid numbers: 0\n",
      "Epoch: 4, MAE: 140.610076, Invalid numbers: 0\n",
      "Epoch: 5, MAE: 78.515625, Invalid numbers: 0\n",
      "Epoch: 6, MAE: 64.027294, Invalid numbers: 0\n",
      "Epoch: 7, MAE: 53.510242, Invalid numbers: 1\n",
      "Epoch: 8, MAE: 38.644581, Invalid numbers: 0\n",
      "Epoch: 9, MAE: 36.262720, Invalid numbers: 0\n",
      "Epoch: 10, MAE: 34.494391, Invalid numbers: 0\n"
     ]
    }
   ],
   "source": [
    "full_run(hidden_size=1024)"
   ]
  },
  {
   "cell_type": "code",
   "execution_count": null,
   "metadata": {},
   "outputs": [],
   "source": []
  }
 ],
 "metadata": {
  "kernelspec": {
   "display_name": "Python 3",
   "language": "python",
   "name": "python3"
  },
  "language_info": {
   "codemirror_mode": {
    "name": "ipython",
    "version": 3
   },
   "file_extension": ".py",
   "mimetype": "text/x-python",
   "name": "python",
   "nbconvert_exporter": "python",
   "pygments_lexer": "ipython3",
   "version": "3.5.2"
  },
  "toc": {
   "nav_menu": {},
   "number_sections": true,
   "sideBar": true,
   "skip_h1_title": false,
   "toc_cell": false,
   "toc_position": {
    "height": "1583px",
    "left": "0px",
    "right": "1228px",
    "top": "110px",
    "width": "212px"
   },
   "toc_section_display": "block",
   "toc_window_display": true
  }
 },
 "nbformat": 4,
 "nbformat_minor": 2
}
