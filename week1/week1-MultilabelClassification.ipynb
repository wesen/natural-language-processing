{
 "cells": [
  {
   "cell_type": "markdown",
   "metadata": {},
   "source": [
    "# Predict tags on StackOverflow with linear models"
   ]
  },
  {
   "cell_type": "markdown",
   "metadata": {},
   "source": [
    "In this assignment you will learn how to predict tags for posts from [StackOverflow](https://stackoverflow.com). To solve this task you will use multilabel classification approach.\n",
    "\n",
    "### Libraries\n",
    "\n",
    "In this task you will need the following libraries:\n",
    "- [Numpy](http://www.numpy.org) — a package for scientific computing.\n",
    "- [Pandas](https://pandas.pydata.org) — a library providing high-performance, easy-to-use data structures and data analysis tools for the Python\n",
    "- [scikit-learn](http://scikit-learn.org/stable/index.html) — a tool for data mining and data analysis.\n",
    "- [NLTK](http://www.nltk.org) — a platform to work with natural language."
   ]
  },
  {
   "cell_type": "markdown",
   "metadata": {},
   "source": [
    "### Data\n",
    "\n",
    "The following cell will download all data required for this assignment into the folder `week1/data`."
   ]
  },
  {
   "cell_type": "code",
   "execution_count": 1,
   "metadata": {},
   "outputs": [
    {
     "name": "stdout",
     "output_type": "stream",
     "text": [
      "File data\\train.tsv is already downloaded.\n",
      "File data\\validation.tsv is already downloaded.\n",
      "File data\\test.tsv is already downloaded.\n",
      "File data\\text_prepare_tests.tsv is already downloaded.\n"
     ]
    }
   ],
   "source": [
    "import sys\n",
    "sys.path.append(\"..\")\n",
    "from common.download_utils import download_week1_resources\n",
    "\n",
    "download_week1_resources()"
   ]
  },
  {
   "cell_type": "markdown",
   "metadata": {},
   "source": [
    "### Grading\n",
    "We will create a grader instace below and use it to collect your answers. Note that these outputs will be stored locally inside grader and will be uploaded to platform only after running submiting function in the last part of this assignment. If you want to make partial submission, you can run that cell any time you want."
   ]
  },
  {
   "cell_type": "code",
   "execution_count": 2,
   "metadata": {
    "collapsed": true
   },
   "outputs": [],
   "source": [
    "from grader import Grader"
   ]
  },
  {
   "cell_type": "code",
   "execution_count": 3,
   "metadata": {
    "collapsed": true
   },
   "outputs": [],
   "source": [
    "grader = Grader()"
   ]
  },
  {
   "cell_type": "markdown",
   "metadata": {},
   "source": [
    "### Text preprocessing"
   ]
  },
  {
   "cell_type": "markdown",
   "metadata": {},
   "source": [
    "For this and most of the following assignments you will need to use a list of stop words. It can be downloaded from *nltk*:"
   ]
  },
  {
   "cell_type": "code",
   "execution_count": 4,
   "metadata": {},
   "outputs": [
    {
     "name": "stdout",
     "output_type": "stream",
     "text": [
      "[nltk_data] Downloading package stopwords to C:\\Users\\Manuel\n",
      "[nltk_data]     Odendahl\\AppData\\Roaming\\nltk_data...\n",
      "[nltk_data]   Package stopwords is already up-to-date!\n"
     ]
    }
   ],
   "source": [
    "import nltk\n",
    "nltk.download('stopwords')\n",
    "from nltk.corpus import stopwords"
   ]
  },
  {
   "cell_type": "markdown",
   "metadata": {},
   "source": [
    "\n",
    "In this task you will deal with a dataset of post titles from StackOverflow. You are provided a split to 3 sets: *train*, *validation* and *test*. All corpora (except for *test*) contain titles of the posts and corresponding tags (100 tags are available). The *test* set is provided for Coursera's grading and doesn't contain answers. Upload the corpora using *pandas* and look at the data:"
   ]
  },
  {
   "cell_type": "code",
   "execution_count": 5,
   "metadata": {
    "collapsed": true
   },
   "outputs": [],
   "source": [
    "from ast import literal_eval\n",
    "import pandas as pd\n",
    "import numpy as np"
   ]
  },
  {
   "cell_type": "code",
   "execution_count": 6,
   "metadata": {
    "collapsed": true
   },
   "outputs": [],
   "source": [
    "def read_data(filename):\n",
    "    data = pd.read_csv(filename, sep='\\t')\n",
    "    data['tags'] = data['tags'].apply(literal_eval)\n",
    "    return data"
   ]
  },
  {
   "cell_type": "code",
   "execution_count": 7,
   "metadata": {
    "collapsed": true
   },
   "outputs": [],
   "source": [
    "train = read_data('data/train.tsv')\n",
    "validation = read_data('data/validation.tsv')\n",
    "test = pd.read_csv('data/test.tsv', sep='\\t')"
   ]
  },
  {
   "cell_type": "code",
   "execution_count": 8,
   "metadata": {},
   "outputs": [
    {
     "data": {
      "text/html": [
       "<div>\n",
       "<style>\n",
       "    .dataframe thead tr:only-child th {\n",
       "        text-align: right;\n",
       "    }\n",
       "\n",
       "    .dataframe thead th {\n",
       "        text-align: left;\n",
       "    }\n",
       "\n",
       "    .dataframe tbody tr th {\n",
       "        vertical-align: top;\n",
       "    }\n",
       "</style>\n",
       "<table border=\"1\" class=\"dataframe\">\n",
       "  <thead>\n",
       "    <tr style=\"text-align: right;\">\n",
       "      <th></th>\n",
       "      <th>title</th>\n",
       "      <th>tags</th>\n",
       "    </tr>\n",
       "  </thead>\n",
       "  <tbody>\n",
       "    <tr>\n",
       "      <th>0</th>\n",
       "      <td>How to draw a stacked dotplot in R?</td>\n",
       "      <td>[r]</td>\n",
       "    </tr>\n",
       "    <tr>\n",
       "      <th>1</th>\n",
       "      <td>mysql select all records where a datetime fiel...</td>\n",
       "      <td>[php, mysql]</td>\n",
       "    </tr>\n",
       "    <tr>\n",
       "      <th>2</th>\n",
       "      <td>How to terminate windows phone 8.1 app</td>\n",
       "      <td>[c#]</td>\n",
       "    </tr>\n",
       "    <tr>\n",
       "      <th>3</th>\n",
       "      <td>get current time in a specific country via jquery</td>\n",
       "      <td>[javascript, jquery]</td>\n",
       "    </tr>\n",
       "    <tr>\n",
       "      <th>4</th>\n",
       "      <td>Configuring Tomcat to Use SSL</td>\n",
       "      <td>[java]</td>\n",
       "    </tr>\n",
       "  </tbody>\n",
       "</table>\n",
       "</div>"
      ],
      "text/plain": [
       "                                               title                  tags\n",
       "0                How to draw a stacked dotplot in R?                   [r]\n",
       "1  mysql select all records where a datetime fiel...          [php, mysql]\n",
       "2             How to terminate windows phone 8.1 app                  [c#]\n",
       "3  get current time in a specific country via jquery  [javascript, jquery]\n",
       "4                      Configuring Tomcat to Use SSL                [java]"
      ]
     },
     "execution_count": 8,
     "metadata": {},
     "output_type": "execute_result"
    }
   ],
   "source": [
    "train.head()"
   ]
  },
  {
   "cell_type": "markdown",
   "metadata": {},
   "source": [
    "As you can see, *title* column contains titles of the posts and *tags* colum countains the tags. It could be noticed that a number of tags for a post is not fixed and could be as many as necessary."
   ]
  },
  {
   "cell_type": "markdown",
   "metadata": {},
   "source": [
    "For a more comfortable usage, initialize *X_train*, *X_val*, *X_test*, *y_train*, *y_val*."
   ]
  },
  {
   "cell_type": "code",
   "execution_count": 9,
   "metadata": {
    "collapsed": true
   },
   "outputs": [],
   "source": [
    "X_train, y_train = train['title'].values, train['tags'].values\n",
    "X_val, y_val = validation['title'].values, validation['tags'].values\n",
    "X_test = test['title'].values"
   ]
  },
  {
   "cell_type": "markdown",
   "metadata": {},
   "source": [
    "One of the most known difficulties when working with natural data is that it's unstructured. For example, if you use it \"as is\" and extract tokens just by splitting the titles by whitespaces, you will see that there are many \"weird\" tokens like *3.5?*, *\"Flip*, etc. To prevent the problems, it's usually useful to prepare the data somehow. In this task you'll write a function, which will be also used in the other assignments. \n",
    "\n",
    "**Task 1 (TextPrepare).** Implement the function *text_prepare* following the instructions. After that, run the function *test_test_prepare* to test it on tiny cases and submit it to Coursera."
   ]
  },
  {
   "cell_type": "code",
   "execution_count": 10,
   "metadata": {
    "collapsed": true
   },
   "outputs": [],
   "source": [
    "import re"
   ]
  },
  {
   "cell_type": "code",
   "execution_count": 11,
   "metadata": {
    "collapsed": true
   },
   "outputs": [],
   "source": [
    "REPLACE_BY_SPACE_RE = re.compile('[/(){}\\[\\]\\|@,;]')\n",
    "BAD_SYMBOLS_RE = re.compile('[^0-9a-z #+_]')\n",
    "STOPWORDS = set(stopwords.words('english'))\n",
    "\n",
    "def text_prepare(text):\n",
    "    \"\"\"\n",
    "        text: a string\n",
    "        \n",
    "        return: modified initial string\n",
    "    \"\"\"\n",
    "    text = text.lower() # lowercase text\n",
    "    text = re.sub(REPLACE_BY_SPACE_RE, ' ', text) # replace REPLACE_BY_SPACE_RE symbols by space in text\n",
    "    text = re.sub(BAD_SYMBOLS_RE, '', text) # delete symbols which are in BAD_SYMBOLS_RE from text\n",
    "    words = re.split(r'\\s+', text)\n",
    "    words = [word for word in words if word not in STOPWORDS]\n",
    "    text = ' '.join(words) # delete stopwors from text\n",
    "    return text"
   ]
  },
  {
   "cell_type": "code",
   "execution_count": 123,
   "metadata": {},
   "outputs": [
    {
     "data": {
      "text/plain": [
       "'hi_'"
      ]
     },
     "execution_count": 123,
     "metadata": {},
     "output_type": "execute_result"
    }
   ],
   "source": [
    "text_prepare(\"hi_ how are you\")"
   ]
  },
  {
   "cell_type": "code",
   "execution_count": 13,
   "metadata": {
    "collapsed": true
   },
   "outputs": [],
   "source": [
    "def test_text_prepare():\n",
    "    examples = [\"SQL Server - any equivalent of Excel's CHOOSE function?\",\n",
    "                \"How to free c++ memory vector<int> * arr?\"]\n",
    "    answers = [\"sql server equivalent excels choose function\", \n",
    "               \"free c++ memory vectorint arr\"]\n",
    "    for ex, ans in zip(examples, answers):\n",
    "        if text_prepare(ex) != ans:\n",
    "            return \"Wrong answer for the case: '{}' : '{}' should be '{}'\".format(ex, text_prepare(ex), ans)\n",
    "    return 'Basic tests are passed.'"
   ]
  },
  {
   "cell_type": "code",
   "execution_count": 14,
   "metadata": {},
   "outputs": [
    {
     "name": "stdout",
     "output_type": "stream",
     "text": [
      "Basic tests are passed.\n"
     ]
    }
   ],
   "source": [
    "print(test_text_prepare())"
   ]
  },
  {
   "cell_type": "markdown",
   "metadata": {},
   "source": [
    "Run your implementation for questions from file *text_prepare_tests.tsv* to earn the points."
   ]
  },
  {
   "cell_type": "code",
   "execution_count": 15,
   "metadata": {},
   "outputs": [
    {
     "name": "stdout",
     "output_type": "stream",
     "text": [
      "Current answer for task TextPrepare is:\n",
      " sqlite php readonly\n",
      "creating multiple textboxes dynamically\n",
      "self one prefer javascript\n",
      "save php date...\n"
     ]
    }
   ],
   "source": [
    "prepared_questions = []\n",
    "for line in open('data/text_prepare_tests.tsv', encoding='utf-8'):\n",
    "    line = text_prepare(line.strip())\n",
    "    prepared_questions.append(line)\n",
    "text_prepare_results = '\\n'.join(prepared_questions)\n",
    "\n",
    "grader.submit_tag('TextPrepare', text_prepare_results)"
   ]
  },
  {
   "cell_type": "markdown",
   "metadata": {},
   "source": [
    "Now we can preprocess the titles using function *text_prepare* and  making sure that the headers don't have bad symbols:"
   ]
  },
  {
   "cell_type": "code",
   "execution_count": 16,
   "metadata": {
    "collapsed": true
   },
   "outputs": [],
   "source": [
    "X_train = [text_prepare(x) for x in X_train]\n",
    "X_val = [text_prepare(x) for x in X_val]\n",
    "X_test = [text_prepare(x) for x in X_test]"
   ]
  },
  {
   "cell_type": "code",
   "execution_count": 17,
   "metadata": {},
   "outputs": [
    {
     "data": {
      "text/plain": [
       "['draw stacked dotplot r',\n",
       " 'mysql select records datetime field less specified value',\n",
       " 'terminate windows phone 81 app']"
      ]
     },
     "execution_count": 17,
     "metadata": {},
     "output_type": "execute_result"
    }
   ],
   "source": [
    "X_train[:3]"
   ]
  },
  {
   "cell_type": "markdown",
   "metadata": {},
   "source": [
    "For each tag and for each word calculate how many times they occur in the train corpus. \n",
    "\n",
    "**Task 2 (WordsTagsCount).** Find 3 most popular tags and 3 most popular words in the train data and submit the results to earn the points."
   ]
  },
  {
   "cell_type": "code",
   "execution_count": 106,
   "metadata": {
    "collapsed": true
   },
   "outputs": [],
   "source": [
    "# Dictionary of all tags from train corpus with their counts.\n",
    "tags_counts = {}\n",
    "# Dictionary of all words from train corpus with their counts.\n",
    "words_counts = {}\n",
    "\n",
    "######################################\n",
    "######### YOUR CODE HERE #############\n",
    "######################################\n",
    "TAG_MATCH_RE = re.compile(r'\\[(.*)\\]')\n",
    "\n",
    "for tag_list in train['tags']:\n",
    "    for tag in tag_list:\n",
    "        if tag in tags_counts:\n",
    "            tags_counts[tag] += 1\n",
    "        else:\n",
    "            tags_counts[tag] = 1\n",
    "\n",
    "for title in train['title']:\n",
    "    text = text_prepare(title)\n",
    "    words = text.split()\n",
    "    for word in words:\n",
    "        if word in words_counts:\n",
    "            words_counts[word] += 1\n",
    "        else:\n",
    "            words_counts[word] = 1\n",
    "    "
   ]
  },
  {
   "cell_type": "markdown",
   "metadata": {},
   "source": [
    "We are assume that *tags_counts* and *words_counts* are dictionaries like `{'some_word_or_tag': frequency}`. After appllying the sorting procedure, results will be look like this: `[('most_popular_word_or_tag', frequency), ('less_popular_word_or_tag', frequency), ...]`. The grader gets the results in the following format (two comma-separated strings with line break):\n",
    "\n",
    "    tag1,tag2,tag3\n",
    "    word1,word2,word3\n",
    "\n",
    "Pay attention that in this assignment you should not submit frequencies or some additional information."
   ]
  },
  {
   "cell_type": "code",
   "execution_count": 107,
   "metadata": {},
   "outputs": [
    {
     "name": "stdout",
     "output_type": "stream",
     "text": [
      "Current answer for task WordsTagsCount is:\n",
      " javascript,c#,java\n",
      "using,php,java...\n"
     ]
    }
   ],
   "source": [
    "most_common_tags = sorted(tags_counts.items(), key=lambda x: x[1], reverse=True)[:3]\n",
    "most_common_words = sorted(words_counts.items(), key=lambda x: x[1], reverse=True)[:3]\n",
    "\n",
    "grader.submit_tag('WordsTagsCount', '%s\\n%s' % (','.join(tag for tag, _ in most_common_tags), \n",
    "                                                ','.join(word for word, _ in most_common_words)))"
   ]
  },
  {
   "cell_type": "markdown",
   "metadata": {},
   "source": [
    "### Transforming text to a vector\n",
    "\n",
    "Machine Learning algorithms work with numeric data and we cannot use the provided text data \"as is\". There are many ways to transform text data to numeric vectors. In this task you will try to use two of them.\n",
    "\n",
    "#### Bag of words\n",
    "\n",
    "One of the well-known approaches is a *bag-of-words* representation. To create this transformation, follow the steps:\n",
    "1. Find *N* most popular words in train corpus and numerate them. Now we have a dictionary of the most popular words.\n",
    "2. For each title in the corpora create a zero vector with the dimension equals to *N*.\n",
    "3. For each text in the corpora iterate over words which are in the dictionary and increase by 1 the corresponding coordinate.\n",
    "\n",
    "Let's try to do it for a toy example. Imagine that we have *N* = 4 and the list of the most popular words is \n",
    "\n",
    "    ['hi', 'you', 'me', 'are']\n",
    "\n",
    "Then we need to numerate them, for example, like this: \n",
    "\n",
    "    {'hi': 0, 'you': 1, 'me': 2, 'are': 3}\n",
    "\n",
    "And we have the text, which we want to transform to the vector:\n",
    "\n",
    "    'hi how are you'\n",
    "\n",
    "For this text we create a corresponding zero vector \n",
    "\n",
    "    [0, 0, 0, 0]\n",
    "    \n",
    "And interate over all words, and if the word is in the dictionary, we increase the value of the corresponding position in the vector:\n",
    "\n",
    "    'hi':  [1, 0, 0, 0]\n",
    "    'how': [1, 0, 0, 0] # word 'how' is not in our dictionary\n",
    "    'are': [1, 0, 0, 1]\n",
    "    'you': [1, 1, 0, 1]\n",
    "\n",
    "The resulting vector will be \n",
    "\n",
    "    [1, 1, 0, 1]\n",
    "   \n",
    "Implement the described encoding in the function *my_bag_of_words* with the size of the dictionary equals to 5000. To find the most common words use train data. You can test your code using the function *test_my_bag_of_words*."
   ]
  },
  {
   "cell_type": "code",
   "execution_count": 127,
   "metadata": {
    "collapsed": true
   },
   "outputs": [],
   "source": [
    "DICT_SIZE = 5000\n",
    "WORDS_TO_INDEX = {word: index for index, word in enumerate(sorted(words_counts.items(), key=lambda x: x[1], reverse=True)[:DICT_SIZE])}\n",
    "INDEX_TO_WORDS = {index: word for word, index in WORDS_TO_INDEX.items()}\n",
    "ALL_WORDS = WORDS_TO_INDEX.keys()\n",
    "\n",
    "def my_bag_of_words(text, words_to_index, dict_size):\n",
    "    \"\"\"\n",
    "        text: a string\n",
    "        dict_size: size of the dictionary\n",
    "        \n",
    "        return a vector which is a bag-of-words representation of 'text'\n",
    "    \"\"\"\n",
    "    result_vector = np.zeros(dict_size)\n",
    "    ######################################\n",
    "    ######### YOUR CODE HERE #############\n",
    "    ######################################\n",
    "    for w in text.split():\n",
    "        if w in words_to_index:\n",
    "            result_vector[words_to_index[w]] += 1\n",
    "    return result_vector"
   ]
  },
  {
   "cell_type": "code",
   "execution_count": 128,
   "metadata": {},
   "outputs": [
    {
     "data": {
      "text/plain": [
       "5000"
      ]
     },
     "execution_count": 128,
     "metadata": {},
     "output_type": "execute_result"
    }
   ],
   "source": [
    "len(WORDS_TO_INDEX)"
   ]
  },
  {
   "cell_type": "code",
   "execution_count": 129,
   "metadata": {
    "collapsed": true
   },
   "outputs": [],
   "source": [
    "WORDS_TO_INDEX = {word[0]: index for index, word in enumerate(sorted(words_counts.items(), key=lambda x: x[1], reverse=True)[:DICT_SIZE])}\n"
   ]
  },
  {
   "cell_type": "code",
   "execution_count": 130,
   "metadata": {},
   "outputs": [
    {
     "data": {
      "text/plain": [
       "['using',\n",
       " 'php',\n",
       " 'java',\n",
       " 'file',\n",
       " 'javascript',\n",
       " 'error',\n",
       " 'get',\n",
       " 'c#',\n",
       " 'python',\n",
       " 'string']"
      ]
     },
     "execution_count": 130,
     "metadata": {},
     "output_type": "execute_result"
    }
   ],
   "source": [
    "list(WORDS_TO_INDEX.keys())[:10]"
   ]
  },
  {
   "cell_type": "code",
   "execution_count": 131,
   "metadata": {},
   "outputs": [
    {
     "data": {
      "text/plain": [
       "[('using', 8278), ('php', 5614), ('java', 5501)]"
      ]
     },
     "execution_count": 131,
     "metadata": {},
     "output_type": "execute_result"
    }
   ],
   "source": [
    "most_common_words"
   ]
  },
  {
   "cell_type": "code",
   "execution_count": 132,
   "metadata": {
    "collapsed": true
   },
   "outputs": [],
   "source": [
    "def test_my_bag_of_words():\n",
    "    words_to_index = {'hi': 0, 'you': 1, 'me': 2, 'are': 3}\n",
    "    examples = ['hi how are you']\n",
    "    answers = [[1, 1, 0, 1]]\n",
    "    for ex, ans in zip(examples, answers):\n",
    "        if (my_bag_of_words(ex, words_to_index, 4) != ans).any():\n",
    "            print(my_bag_of_words(ex, words_to_index, 4))\n",
    "            return \"Wrong answer for the case: '%s'\" % ex\n",
    "    return 'Basic tests are passed.'"
   ]
  },
  {
   "cell_type": "code",
   "execution_count": 133,
   "metadata": {},
   "outputs": [
    {
     "name": "stdout",
     "output_type": "stream",
     "text": [
      "Basic tests are passed.\n"
     ]
    }
   ],
   "source": [
    "print(test_my_bag_of_words())"
   ]
  },
  {
   "cell_type": "code",
   "execution_count": 134,
   "metadata": {},
   "outputs": [
    {
     "data": {
      "text/plain": [
       "'hi'"
      ]
     },
     "execution_count": 134,
     "metadata": {},
     "output_type": "execute_result"
    }
   ],
   "source": [
    "text_prepare(\"hi how are you\")"
   ]
  },
  {
   "cell_type": "markdown",
   "metadata": {},
   "source": [
    "Now apply the implemented function to all samples (this might take up to a minute):"
   ]
  },
  {
   "cell_type": "code",
   "execution_count": 135,
   "metadata": {
    "collapsed": true
   },
   "outputs": [],
   "source": [
    "from scipy import sparse as sp_sparse"
   ]
  },
  {
   "cell_type": "code",
   "execution_count": 136,
   "metadata": {},
   "outputs": [
    {
     "name": "stdout",
     "output_type": "stream",
     "text": [
      "X_train shape  (100000, 5000)\n",
      "X_val shape  (30000, 5000)\n",
      "X_test shape  (20000, 5000)\n"
     ]
    }
   ],
   "source": [
    "X_train_mybag = sp_sparse.vstack([sp_sparse.csr_matrix(my_bag_of_words(text, WORDS_TO_INDEX, DICT_SIZE)) for text in X_train])\n",
    "X_val_mybag = sp_sparse.vstack([sp_sparse.csr_matrix(my_bag_of_words(text, WORDS_TO_INDEX, DICT_SIZE)) for text in X_val])\n",
    "X_test_mybag = sp_sparse.vstack([sp_sparse.csr_matrix(my_bag_of_words(text, WORDS_TO_INDEX, DICT_SIZE)) for text in X_test])\n",
    "print('X_train shape ', X_train_mybag.shape)\n",
    "print('X_val shape ', X_val_mybag.shape)\n",
    "print('X_test shape ', X_test_mybag.shape)"
   ]
  },
  {
   "cell_type": "markdown",
   "metadata": {},
   "source": [
    "As you might notice, we transform the data to sparse representation, to store the useful information efficiently. There are many [types](https://docs.scipy.org/doc/scipy/reference/sparse.html) of such representations, however slkearn algorithms can work only with [csr](https://docs.scipy.org/doc/scipy/reference/generated/scipy.sparse.csr_matrix.html#scipy.sparse.csr_matrix) matrix, so we will use this one."
   ]
  },
  {
   "cell_type": "markdown",
   "metadata": {},
   "source": [
    "**Task 3 (BagOfWords).** For the 10th row in *X_train_mybag* find how many non-zero elements it has. In this task the answer (variable *non_zero_elements_count*) should be a number, e.g. 20."
   ]
  },
  {
   "cell_type": "code",
   "execution_count": 137,
   "metadata": {},
   "outputs": [
    {
     "data": {
      "text/plain": [
       "'mysql select records datetime field less specified value'"
      ]
     },
     "execution_count": 137,
     "metadata": {},
     "output_type": "execute_result"
    }
   ],
   "source": [
    "X_train[1]"
   ]
  },
  {
   "cell_type": "code",
   "execution_count": 138,
   "metadata": {},
   "outputs": [
    {
     "name": "stdout",
     "output_type": "stream",
     "text": [
      "ipad selecting text inside text input tap\n",
      "ipad in dict; True\n",
      "selecting in dict; True\n",
      "text in dict; True\n",
      "inside in dict; True\n",
      "text in dict; True\n",
      "input in dict; True\n",
      "tap in dict; True\n"
     ]
    }
   ],
   "source": [
    "i=11\n",
    "line = X_train[i]\n",
    "print(line)\n",
    "for w in line.split():\n",
    "    print('{} in dict; {}'.format(w, w in WORDS_TO_INDEX))"
   ]
  },
  {
   "cell_type": "code",
   "execution_count": 139,
   "metadata": {},
   "outputs": [
    {
     "data": {
      "text/plain": [
       "array([ 0.,  0.,  0., ...,  0.,  0.,  0.])"
      ]
     },
     "execution_count": 139,
     "metadata": {},
     "output_type": "execute_result"
    }
   ],
   "source": [
    "my_bag_of_words(X_train[1],WORDS_TO_INDEX,DICT_SIZE)"
   ]
  },
  {
   "cell_type": "code",
   "execution_count": 140,
   "metadata": {
    "collapsed": true
   },
   "outputs": [],
   "source": [
    "words=X_train[1].split()"
   ]
  },
  {
   "cell_type": "code",
   "execution_count": 141,
   "metadata": {
    "scrolled": true
   },
   "outputs": [
    {
     "data": {
      "text/plain": [
       "5000"
      ]
     },
     "execution_count": 141,
     "metadata": {},
     "output_type": "execute_result"
    }
   ],
   "source": [
    "len(WORDS_TO_INDEX)"
   ]
  },
  {
   "cell_type": "code",
   "execution_count": 142,
   "metadata": {},
   "outputs": [
    {
     "data": {
      "text/plain": [
       "['using',\n",
       " 'php',\n",
       " 'java',\n",
       " 'file',\n",
       " 'javascript',\n",
       " 'error',\n",
       " 'get',\n",
       " 'c#',\n",
       " 'python',\n",
       " 'string']"
      ]
     },
     "execution_count": 142,
     "metadata": {},
     "output_type": "execute_result"
    }
   ],
   "source": [
    "list(WORDS_TO_INDEX.keys())[:10]"
   ]
  },
  {
   "cell_type": "code",
   "execution_count": 143,
   "metadata": {},
   "outputs": [
    {
     "name": "stdout",
     "output_type": "stream",
     "text": [
      "[ 0.  0.  0. ...,  0.  0.  0.]\n"
     ]
    },
    {
     "data": {
      "text/plain": [
       "8.0"
      ]
     },
     "execution_count": 143,
     "metadata": {},
     "output_type": "execute_result"
    }
   ],
   "source": [
    "row = X_train_mybag[10].toarray()[0]\n",
    "print(row)\n",
    "np.sum(row)"
   ]
  },
  {
   "cell_type": "code",
   "execution_count": 144,
   "metadata": {},
   "outputs": [
    {
     "data": {
      "text/plain": [
       "8.0"
      ]
     },
     "execution_count": 144,
     "metadata": {},
     "output_type": "execute_result"
    }
   ],
   "source": [
    "np.sum(my_bag_of_words(X_train[10],WORDS_TO_INDEX,DICT_SIZE))"
   ]
  },
  {
   "cell_type": "code",
   "execution_count": 145,
   "metadata": {},
   "outputs": [
    {
     "data": {
      "text/plain": [
       "'5'"
      ]
     },
     "execution_count": 145,
     "metadata": {},
     "output_type": "execute_result"
    }
   ],
   "source": [
    "str(non_zero_elements_count)"
   ]
  },
  {
   "cell_type": "code",
   "execution_count": 146,
   "metadata": {},
   "outputs": [
    {
     "name": "stdout",
     "output_type": "stream",
     "text": [
      "Current answer for task BagOfWords is:\n",
      " 7...\n"
     ]
    }
   ],
   "source": [
    "row = X_train_mybag[10].toarray()[0]\n",
    "non_zero_elements_count = np.sum(row>0)\n",
    "\n",
    "grader.submit_tag('BagOfWords', str(non_zero_elements_count))"
   ]
  },
  {
   "cell_type": "code",
   "execution_count": 147,
   "metadata": {},
   "outputs": [
    {
     "name": "stdout",
     "output_type": "stream",
     "text": [
      "obtaining in True\n",
      "object in True\n",
      "javalangclasst in False\n",
      "object in True\n",
      "parameterized in True\n",
      "type in True\n",
      "without in True\n",
      "constructing in True\n",
      "class in True\n",
      "q_uestion in False\n"
     ]
    }
   ],
   "source": [
    "for w in X_train[10].split():\n",
    "    print(\"{} in {}\".format(w, w in WORDS_TO_INDEX))"
   ]
  },
  {
   "cell_type": "code",
   "execution_count": 148,
   "metadata": {},
   "outputs": [
    {
     "data": {
      "text/plain": [
       "<1x5000 sparse matrix of type '<class 'numpy.float64'>'\n",
       "\twith 7 stored elements in Compressed Sparse Row format>"
      ]
     },
     "execution_count": 148,
     "metadata": {},
     "output_type": "execute_result"
    }
   ],
   "source": [
    "X_train_mybag[10]"
   ]
  },
  {
   "cell_type": "code",
   "execution_count": 149,
   "metadata": {},
   "outputs": [
    {
     "data": {
      "text/plain": [
       "8.0"
      ]
     },
     "execution_count": 149,
     "metadata": {},
     "output_type": "execute_result"
    }
   ],
   "source": [
    "np.sum(my_bag_of_words(text_prepare(X_train[10]), WORDS_TO_INDEX, DICT_SIZE))"
   ]
  },
  {
   "cell_type": "code",
   "execution_count": 150,
   "metadata": {},
   "outputs": [
    {
     "data": {
      "text/plain": [
       "'obtaining object javalangclasst object parameterized type without constructing class q_uestion'"
      ]
     },
     "execution_count": 150,
     "metadata": {},
     "output_type": "execute_result"
    }
   ],
   "source": [
    "text_prepare(X_train[10])"
   ]
  },
  {
   "cell_type": "markdown",
   "metadata": {},
   "source": [
    "#### TF-IDF\n",
    "\n",
    "The second approach extends the bag-of-words framework by taking into account total frequencies of words in the corpora. It helps to penalize too frequent words and provide better features space. \n",
    "\n",
    "Implement function *tfidf_features* using class [TfidfVectorizer](http://scikit-learn.org/stable/modules/generated/sklearn.feature_extraction.text.TfidfVectorizer.html) from *scikit-learn*. Use *train* corpus to train a vectorizer. Don't forget to take a look into the arguments that you can pass to it. We suggest that you filter out too rare words (occur less than in 5 titles) and too frequent words (occur more than in 90% of the titles). Also, use bigrams along with unigrams in your vocabulary. "
   ]
  },
  {
   "cell_type": "code",
   "execution_count": 40,
   "metadata": {
    "collapsed": true
   },
   "outputs": [],
   "source": [
    "from sklearn.feature_extraction.text import TfidfVectorizer"
   ]
  },
  {
   "cell_type": "code",
   "execution_count": 41,
   "metadata": {
    "collapsed": true
   },
   "outputs": [],
   "source": [
    "def tfidf_features(X_train, X_val, X_test):\n",
    "    \"\"\"\n",
    "        X_train, X_val, X_test — samples        \n",
    "        return TF-IDF vectorized representation of each sample and vocabulary\n",
    "    \"\"\"\n",
    "    # Create TF-IDF vectorizer with a proper parameters choice\n",
    "    # Fit the vectorizer on the train set\n",
    "    # Transform the train, test, and val sets and return the result\n",
    "    \n",
    "    \n",
    "    tfidf_vectorizer = TfidfVectorizer(token_pattern=r'[^\\s]+')\n",
    "    tfidf_vectorizer.fit(X_train)\n",
    "    \n",
    "    ######################################\n",
    "    ######### YOUR CODE HERE #############\n",
    "    ######################################\n",
    "    \n",
    "    return tfidf_vectorizer.transform(X_train), \\\n",
    "         tfidf_vectorizer.transform(X_val), \\\n",
    "         tfidf_vectorizer.transform(X_test), \\\n",
    "         tfidf_vectorizer.vocabulary_"
   ]
  },
  {
   "cell_type": "markdown",
   "metadata": {},
   "source": [
    "Once you have done text preprocessing, always have a look at the results. Be very careful at this step, because the performance of future models will drastically depend on it. \n",
    "\n",
    "In this case, check whether you have c++ or c# in your vocabulary, as they are obviously important tokens in our tags prediction task:"
   ]
  },
  {
   "cell_type": "code",
   "execution_count": 42,
   "metadata": {
    "collapsed": true
   },
   "outputs": [],
   "source": [
    "X_train_tfidf, X_val_tfidf, X_test_tfidf, tfidf_vocab = tfidf_features(X_train, X_val, X_test)\n",
    "tfidf_reversed_vocab = {i:word for word,i in tfidf_vocab.items()}"
   ]
  },
  {
   "cell_type": "code",
   "execution_count": 43,
   "metadata": {},
   "outputs": [
    {
     "data": {
      "text/plain": [
       "4340"
      ]
     },
     "execution_count": 43,
     "metadata": {},
     "output_type": "execute_result"
    }
   ],
   "source": [
    "tfidf_vocab['c++']"
   ]
  },
  {
   "cell_type": "code",
   "execution_count": 44,
   "metadata": {},
   "outputs": [
    {
     "data": {
      "text/plain": [
       "(<1x31497 sparse matrix of type '<class 'numpy.float64'>'\n",
       " \twith 4 stored elements in Compressed Sparse Row format>,\n",
       " 'draw stacked dotplot r')"
      ]
     },
     "execution_count": 44,
     "metadata": {},
     "output_type": "execute_result"
    }
   ],
   "source": [
    "X_train_tfidf[0], X_train[0]"
   ]
  },
  {
   "cell_type": "code",
   "execution_count": 45,
   "metadata": {},
   "outputs": [
    {
     "data": {
      "text/plain": [
       "{'draw': 8649,\n",
       " 'stacked': 26005,\n",
       " 'dotplot': 8554,\n",
       " 'r': 22228,\n",
       " 'mysql': 17867,\n",
       " 'select': 24353,\n",
       " 'records': 22622,\n",
       " 'datetime': 7312,\n",
       " 'field': 10233,\n",
       " 'less': 15544,\n",
       " 'specified': 25698,\n",
       " 'value': 29802,\n",
       " 'terminate': 27710,\n",
       " 'windows': 30687,\n",
       " 'phone': 20620,\n",
       " '81': 1137,\n",
       " 'app': 2409,\n",
       " 'get': 11330,\n",
       " 'current': 6847,\n",
       " 'time': 28086,\n",
       " 'specific': 25692,\n",
       " 'country': 6454,\n",
       " 'via': 29992,\n",
       " 'jquery': 14862,\n",
       " 'configuring': 6002,\n",
       " 'tomcat': 28272,\n",
       " 'use': 29547,\n",
       " 'ssl': 25969,\n",
       " 'awesome': 3349,\n",
       " 'nested': 18137,\n",
       " 'set': 24729,\n",
       " 'plugin': 20924,\n",
       " 'add': 1721,\n",
       " 'new': 18216,\n",
       " 'children': 5020,\n",
       " 'tree': 28522,\n",
       " 'various': 29865,\n",
       " 'levels': 15558,\n",
       " 'create': 6527,\n",
       " 'map': 16495,\n",
       " 'json': 14969,\n",
       " 'response': 23322,\n",
       " 'ruby': 23808,\n",
       " 'rails': 22282,\n",
       " '3': 748,\n",
       " 'rspec': 23781,\n",
       " 'test': 27724,\n",
       " 'method': 16979,\n",
       " 'called': 4486,\n",
       " 'springboot': 25798,\n",
       " 'catalina': 4657,\n",
       " 'lifecycle': 15649,\n",
       " 'exception': 9699,\n",
       " 'import': 13178,\n",
       " 'data': 7060,\n",
       " 'excel': 9681,\n",
       " 'database': 7071,\n",
       " 'using': 29647,\n",
       " 'php': 20640,\n",
       " 'obtaining': 19107,\n",
       " 'object': 19012,\n",
       " 'javalangclasst': 14394,\n",
       " 'parameterized': 20188,\n",
       " 'type': 28724,\n",
       " 'without': 30774,\n",
       " 'constructing': 6122,\n",
       " 'class': 5145,\n",
       " 'q_uestion': 21972,\n",
       " 'ipad': 13967,\n",
       " 'selecting': 24393,\n",
       " 'text': 27772,\n",
       " 'inside': 13596,\n",
       " 'input': 13536,\n",
       " 'tap': 27552,\n",
       " 'jquerys': 14899,\n",
       " 'function': 11067,\n",
       " 'eclipse': 8896,\n",
       " 'c++': 4340,\n",
       " 'mingw': 17129,\n",
       " 'lauch': 15421,\n",
       " 'program': 21547,\n",
       " 'terminated': 27711,\n",
       " 'javascript': 14477,\n",
       " 'call': 4477,\n",
       " 'one': 19299,\n",
       " 'prototype': 21682,\n",
       " 'another': 2309,\n",
       " 'intersection': 13799,\n",
       " 'list': 15760,\n",
       " 'sets': 24864,\n",
       " 'longer': 16170,\n",
       " 'able': 1427,\n",
       " 'hide': 12295,\n",
       " 'keyboard': 15188,\n",
       " 'viewwilldisappear': 30072,\n",
       " 'ios7': 13947,\n",
       " 'fetch': 10199,\n",
       " 'key': 15183,\n",
       " 'swift': 26978,\n",
       " 'change': 4874,\n",
       " 'pivot': 20822,\n",
       " 'header': 12177,\n",
       " 'template': 27667,\n",
       " '8': 1122,\n",
       " 'connectionstring': 6046,\n",
       " 'encryption': 9208,\n",
       " 'let': 15550,\n",
       " 'ui': 28831,\n",
       " 'refresh': 22782,\n",
       " 'long': 16167,\n",
       " 'running': 23849,\n",
       " 'operation': 19515,\n",
       " 'better': 3713,\n",
       " 'way': 30300,\n",
       " 'execute': 9752,\n",
       " 'file': 10262,\n",
       " 'python': 21907,\n",
       " 'console': 6081,\n",
       " 'output': 19930,\n",
       " 'run': 23833,\n",
       " 'make': 16402,\n",
       " '2': 560,\n",
       " 'thumbnails': 28043,\n",
       " 'codeigniter': 5441,\n",
       " 'java': 14311,\n",
       " 'character': 4894,\n",
       " 'vs': 30175,\n",
       " 'char': 4893,\n",
       " 'memory': 16862,\n",
       " 'usage': 29537,\n",
       " 'bootstrap': 4013,\n",
       " 'modal': 17277,\n",
       " 'close': 5318,\n",
       " 'enter': 9278,\n",
       " 'press': 21347,\n",
       " 'linq': 15740,\n",
       " 'query': 22146,\n",
       " 'group': 11889,\n",
       " 'retrieving': 23441,\n",
       " 'percentage': 20479,\n",
       " 'label': 15331,\n",
       " 'issue': 14144,\n",
       " 'openerp': 19452,\n",
       " 'keep': 15165,\n",
       " 'objects': 19057,\n",
       " 'view': 30008,\n",
       " 'scaling': 24033,\n",
       " 'zy': 31496,\n",
       " 'axis': 3369,\n",
       " 'attributeerror': 3079,\n",
       " 'nonetype': 18492,\n",
       " 'attribute': 3075,\n",
       " 'split': 25754,\n",
       " 'append': 2445,\n",
       " 'mat': 16618,\n",
       " 'scipyiosavemat': 24103,\n",
       " 'replace': 23063,\n",
       " 'onclick': 19270,\n",
       " 'hcommandlink': 12169,\n",
       " 'redirect': 22676,\n",
       " 'programme': 21562,\n",
       " 'accesscontrolalloworigin': 1498,\n",
       " 'present': 21327,\n",
       " 'requested': 23149,\n",
       " 'resource': 23293,\n",
       " 'error': 9464,\n",
       " 'creating': 6584,\n",
       " 'c#': 4322,\n",
       " 'ijsonvalue': 12991,\n",
       " 'cannot': 4544,\n",
       " 'implicitly': 13168,\n",
       " 'convert': 6301,\n",
       " 'string': 26434,\n",
       " 'windowsdatajsonijsonvalue': 30697,\n",
       " 'django': 8304,\n",
       " 'modelform': 17312,\n",
       " 'captialisation': 4582,\n",
       " 'show': 25064,\n",
       " 'div': 8282,\n",
       " 'slide': 25361,\n",
       " 'avoid': 3330,\n",
       " 'busy': 4260,\n",
       " 'spinning': 25741,\n",
       " 'laravel': 15380,\n",
       " '4': 862,\n",
       " 'inputall': 13539,\n",
       " 'returns': 23462,\n",
       " 'ajax': 1956,\n",
       " 'post': 21098,\n",
       " 'handle': 12048,\n",
       " 'neterr_connection_refused': 18158,\n",
       " 'year': 31334,\n",
       " 'retrofit': 23445,\n",
       " 'singleton': 25253,\n",
       " 'gson': 11923,\n",
       " 'convertor': 6312,\n",
       " 'settimer': 24884,\n",
       " 'nondialog': 18478,\n",
       " 'cpp': 6486,\n",
       " 'mfc': 17015,\n",
       " 'copying': 6367,\n",
       " 'web': 30324,\n",
       " 'reference': 22738,\n",
       " 'project': 21586,\n",
       " 'top': 28320,\n",
       " 'five': 10538,\n",
       " 'insert': 13571,\n",
       " 'index': 13309,\n",
       " 'apache': 2364,\n",
       " 'poi': 20955,\n",
       " 'page': 20053,\n",
       " 'format': 10791,\n",
       " 'worksheet': 30847,\n",
       " 'tkinter': 28181,\n",
       " 'indeterminate': 13308,\n",
       " 'progress': 21575,\n",
       " 'bar': 3483,\n",
       " 'store': 26351,\n",
       " 'image': 13027,\n",
       " 'path': 20322,\n",
       " 'jdbc': 14686,\n",
       " 'connection': 6039,\n",
       " 'associated': 2956,\n",
       " 'managed': 16439,\n",
       " 'multiple': 17683,\n",
       " 'tables': 27478,\n",
       " 'model': 17291,\n",
       " 'yii2': 31352,\n",
       " 'controller': 6269,\n",
       " 'names': 17996,\n",
       " 'aspnet': 2851,\n",
       " 'mvc4': 17786,\n",
       " 'casting': 4653,\n",
       " 'integer': 13673,\n",
       " 'array': 2674,\n",
       " 'getting': 11559,\n",
       " 'uploading': 29447,\n",
       " 'clear': 5220,\n",
       " 'methods': 17001,\n",
       " 'printing': 21419,\n",
       " 'floats': 10628,\n",
       " 'number': 18900,\n",
       " 'zeros': 31444,\n",
       " 'simple': 25174,\n",
       " 'c': 4321,\n",
       " 'network': 18194,\n",
       " 'library': 15614,\n",
       " 'usr': 29655,\n",
       " 'bin': 3752,\n",
       " 'instead': 13648,\n",
       " 'local': 15994,\n",
       " 'bitmap': 3821,\n",
       " 'binary': 3755,\n",
       " 'operations': 19521,\n",
       " 'default': 7593,\n",
       " 'mail': 16336,\n",
       " 'working': 30840,\n",
       " 'entity': 9293,\n",
       " 'framework': 10935,\n",
       " 'distinct': 8267,\n",
       " 'extjs': 9950,\n",
       " 'checked': 4981,\n",
       " 'nodes': 18396,\n",
       " 'submit': 26699,\n",
       " 'lists': 15858,\n",
       " 'element': 9022,\n",
       " 'pass': 20285,\n",
       " 'values': 29822,\n",
       " 'html': 12501,\n",
       " 'information': 13410,\n",
       " 'dictionary': 7988,\n",
       " 'slidetoggle': 25370,\n",
       " 'display': 8231,\n",
       " 'created': 6537,\n",
       " 'opencv': 19439,\n",
       " 'android': 2185,\n",
       " 'instantiating': 13643,\n",
       " 'namespace': 17998,\n",
       " 'wpf': 30887,\n",
       " 'screen': 24146,\n",
       " 'resolution': 23279,\n",
       " 'content': 6163,\n",
       " 'static': 26115,\n",
       " 'table': 27450,\n",
       " 'cell': 4753,\n",
       " 'displayed': 8236,\n",
       " 'ios': 13941,\n",
       " '9': 1158,\n",
       " 'best': 3706,\n",
       " 'autocomplete': 3180,\n",
       " 'suggest': 26836,\n",
       " 'algorithm': 2018,\n",
       " 'datastructure': 7228,\n",
       " 'backbone': 3397,\n",
       " 'modelsave': 17329,\n",
       " 'sending': 24506,\n",
       " 'put': 21826,\n",
       " 'windowlocationreplace': 30667,\n",
       " 'redirects': 22687,\n",
       " 'given': 11616,\n",
       " 'destroies': 7843,\n",
       " 'session': 24679,\n",
       " 'chrome': 5055,\n",
       " 'mvc': 17781,\n",
       " 'razor': 22398,\n",
       " 'missing': 17188,\n",
       " 'collections': 5523,\n",
       " 'form': 10778,\n",
       " 'date': 7275,\n",
       " 'ddmmyyyy': 7456,\n",
       " 'style': 26614,\n",
       " 'dynamically': 8806,\n",
       " 'linkbutton': 15718,\n",
       " 'affecting': 1882,\n",
       " 'others': 19893,\n",
       " 'check': 4950,\n",
       " 'point': 20956,\n",
       " 'line': 15687,\n",
       " 'client': 5257,\n",
       " 'request': 23132,\n",
       " 'fails': 10057,\n",
       " 'timeout': 28106,\n",
       " 'simultaneously': 25226,\n",
       " 'acquire': 1568,\n",
       " 'update': 29404,\n",
       " 'graph': 11805,\n",
       " 'matplotlib': 16661,\n",
       " 'datatable': 7230,\n",
       " 'inner': 13513,\n",
       " 'join': 14811,\n",
       " 'dynamic': 8803,\n",
       " 'columns': 5603,\n",
       " 'correct': 6403,\n",
       " 'realization': 22523,\n",
       " 'adapter': 1709,\n",
       " 'pattern': 20347,\n",
       " 'objective': 19041,\n",
       " 'save': 23974,\n",
       " 'folder': 10687,\n",
       " 'currying': 6861,\n",
       " 'datatablesnet': 7240,\n",
       " 'ignore': 12959,\n",
       " 'rows': 23739,\n",
       " 'sorting': 25598,\n",
       " 'dom': 8484,\n",
       " 'angular': 2245,\n",
       " 'directive': 8098,\n",
       " 'rectangles': 22634,\n",
       " 'next': 18249,\n",
       " 'parameters': 20195,\n",
       " 'url': 29479,\n",
       " 'zend': 31402,\n",
       " 'inheritance': 13431,\n",
       " 'access': 1488,\n",
       " 'problem': 21462,\n",
       " 'valueerror': 29813,\n",
       " '20120719': 592,\n",
       " '082400': 167,\n",
       " 'match': 16621,\n",
       " 'ymd': 31362,\n",
       " 'hms': 12370,\n",
       " 'passing': 20294,\n",
       " 'trough': 28584,\n",
       " 'sockets': 25516,\n",
       " 'child': 5007,\n",
       " 'deserializing': 7824,\n",
       " 'xml': 31152,\n",
       " 'version': 29956,\n",
       " 'application': 2485,\n",
       " 'executable': 9750,\n",
       " 'contains': 6157,\n",
       " 'unsupported': 29371,\n",
       " 'architecture': 2606,\n",
       " 'i386': 12763,\n",
       " 'com': 5612,\n",
       " 'urllib2urlerror': 29506,\n",
       " 'urlopen': 29514,\n",
       " 'errno': 9451,\n",
       " '10061': 297,\n",
       " 'unique': 29203,\n",
       " 'combination': 5636,\n",
       " 'bind': 3766,\n",
       " 'drop': 8705,\n",
       " 'first': 10517,\n",
       " 'ddl': 7453,\n",
       " '31': 771,\n",
       " 'qeurying': 21999,\n",
       " 'encrypted': 9205,\n",
       " 'attr_encrypted': 3069,\n",
       " 'gem': 11222,\n",
       " 'clause': 5205,\n",
       " 'fields': 10240,\n",
       " 'listctrl': 15793,\n",
       " 'hack': 12020,\n",
       " 'listitems': 15830,\n",
       " 'google': 11713,\n",
       " 'maps': 16545,\n",
       " 'api': 2381,\n",
       " 'generate': 11249,\n",
       " 'city': 5119,\n",
       " 'state': 26098,\n",
       " 'name': 17982,\n",
       " 'mappedby': 16527,\n",
       " 'unknown': 29238,\n",
       " 'target': 27557,\n",
       " 'property': 21628,\n",
       " 'applet': 2477,\n",
       " 'mac': 16293,\n",
       " 'os': 19850,\n",
       " '1066': 336,\n",
       " 'latitude': 15415,\n",
       " 'longitude': 16172,\n",
       " 'mouseout': 17482,\n",
       " 'listener': 15807,\n",
       " 'wordpress': 30821,\n",
       " 'find': 10431,\n",
       " 'row': 23714,\n",
       " 'quickly': 22193,\n",
       " 'iphone': 13982,\n",
       " 'xcodebuild': 31074,\n",
       " 'command': 5699,\n",
       " 'terminal': 27708,\n",
       " 'sapply': 23957,\n",
       " 'return': 23452,\n",
       " 'matrix': 16669,\n",
       " 'need': 18114,\n",
       " 'transpose': 28496,\n",
       " 'transposed': 28497,\n",
       " 'attach': 3045,\n",
       " 'dataframe': 7126,\n",
       " 'parent': 20210,\n",
       " 'programmatically': 21559,\n",
       " 'd3': 7010,\n",
       " 'js': 14934,\n",
       " 'tick': 28051,\n",
       " 'spacing': 25639,\n",
       " 'gets': 11526,\n",
       " 'messed': 16939,\n",
       " 'month': 17434,\n",
       " 'boundary': 4065,\n",
       " 'hash': 12107,\n",
       " 'oledbconnection': 19221,\n",
       " 'con': 5909,\n",
       " 'user': 29562,\n",
       " 'fit': 10529,\n",
       " 'needs': 18118,\n",
       " 'jsonproperty': 15022,\n",
       " 'propertyname': 21642,\n",
       " 'somename': 25558,\n",
       " 'serializing': 24589,\n",
       " 'automatically': 3246,\n",
       " 'install': 13610,\n",
       " 'toolbarbutton': 28291,\n",
       " 'firefox': 10508,\n",
       " 'navbar': 18046,\n",
       " 'insertitem': 13584,\n",
       " 'auto': 3166,\n",
       " 'layout': 15437,\n",
       " 'constraints': 6115,\n",
       " 'interactive': 13713,\n",
       " 'interface': 13729,\n",
       " 'builder': 4214,\n",
       " 'kill': 15248,\n",
       " 'process': 21474,\n",
       " 'system': 27098,\n",
       " 'shell': 24994,\n",
       " 'setting': 24887,\n",
       " 'timezone': 28147,\n",
       " 'cant': 4553,\n",
       " 'recent': 22575,\n",
       " 'olson': 19227,\n",
       " 'facebook': 9995,\n",
       " 'help': 12235,\n",
       " 'dialog': 7961,\n",
       " 'event': 9597,\n",
       " 'load': 15946,\n",
       " 'browsers': 4155,\n",
       " 'intellij': 13696,\n",
       " 'constant': 6100,\n",
       " 'expression': 9892,\n",
       " 'required': 23209,\n",
       " 'case': 4635,\n",
       " 'ridviewid': 23557,\n",
       " 'dropdown': 8709,\n",
       " 'based': 3522,\n",
       " 'entries': 9318,\n",
       " 'wont': 30810,\n",
       " 'work': 30825,\n",
       " 'machine': 16296,\n",
       " 'pyqt': 21895,\n",
       " 'addeventlistener': 1742,\n",
       " 'send': 24492,\n",
       " 'thread': 27975,\n",
       " 'focus': 10679,\n",
       " 'listviewitem': 15883,\n",
       " 'documentgetelementbyid': 8434,\n",
       " 'tableid': 27468,\n",
       " 'innerhtml': 13516,\n",
       " 'ie8': 12897,\n",
       " 'efficient': 8980,\n",
       " 'int': 13659,\n",
       " 'inverse': 13867,\n",
       " 'edit': 8918,\n",
       " 'txt': 28719,\n",
       " 'conditionally': 5952,\n",
       " 'filter': 10401,\n",
       " 'iqueryable': 14008,\n",
       " 'generic': 11265,\n",
       " 'repository': 23106,\n",
       " 'invalid': 13837,\n",
       " 'indirect': 13355,\n",
       " 'decodeindirectref': 7543,\n",
       " 'trying': 28612,\n",
       " 'record': 22617,\n",
       " 'sql': 25838,\n",
       " 'notesnotessession': 18658,\n",
       " 'dominonotessession': 8511,\n",
       " 'password': 20299,\n",
       " 'prompt': 21608,\n",
       " 'regex': 22807,\n",
       " 'needed': 18115,\n",
       " 'play': 20878,\n",
       " 'videos': 30005,\n",
       " 'website': 30467,\n",
       " 'reading': 22493,\n",
       " 'stdin': 26207,\n",
       " 'blocking': 3881,\n",
       " 'video': 29999,\n",
       " 'old': 19214,\n",
       " 'rest': 23358,\n",
       " 'comma': 5695,\n",
       " 'separated': 24543,\n",
       " 'collection': 5510,\n",
       " 'spring': 25784,\n",
       " 'checking': 4990,\n",
       " 'member': 16833,\n",
       " 'struct': 26569,\n",
       " 'gridview': 11874,\n",
       " 'export': 9878,\n",
       " 'tinymce': 28158,\n",
       " 'moxie': 17503,\n",
       " 'player': 20885,\n",
       " 'media': 16796,\n",
       " 'splash': 25747,\n",
       " 'propertyplaceholderconfigurerlike': 21645,\n",
       " 'accepts': 1482,\n",
       " 'csv': 6736,\n",
       " 'stringsplit': 26510,\n",
       " 'shortened': 25043,\n",
       " 'due': 8761,\n",
       " 'blank': 3850,\n",
       " 'li': 15575,\n",
       " 'ngmodel': 18298,\n",
       " 'start': 26054,\n",
       " 'blackberry': 3844,\n",
       " 'programming': 21569,\n",
       " 'smloginitemsetenabled': 25420,\n",
       " 'counterpart': 6448,\n",
       " 'searching': 24267,\n",
       " 'sdk': 24234,\n",
       " 'quick': 22190,\n",
       " 'directory': 8105,\n",
       " 'directorynotfoundexception': 8123,\n",
       " 'column': 5588,\n",
       " 'headings': 12189,\n",
       " 'odd': 19159,\n",
       " 'even': 9593,\n",
       " 'numbers': 18916,\n",
       " 'threads': 28004,\n",
       " 'alternatives': 2115,\n",
       " 'projects': 21595,\n",
       " 'similar': 25169,\n",
       " 'joomla': 14824,\n",
       " 'mambo': 16433,\n",
       " 'drupal': 8735,\n",
       " 'assign': 2939,\n",
       " 'variable': 29846,\n",
       " 'properties': 21624,\n",
       " 'accessing': 1508,\n",
       " 'global': 11648,\n",
       " 'onclicklistener': 19275,\n",
       " 'argument': 2637,\n",
       " 'uml': 29036,\n",
       " 'preg_replace': 21280,\n",
       " 'curly': 6841,\n",
       " 'brackets': 4091,\n",
       " '323': 791,\n",
       " 'bundler': 4249,\n",
       " 'could': 6434,\n",
       " 'compatible': 5788,\n",
       " 'versions': 29979,\n",
       " 'railties': 22304,\n",
       " 'exe': 9737,\n",
       " 'antcreate': 2321,\n",
       " 'junit': 15106,\n",
       " 'report': 23094,\n",
       " 'task': 27571,\n",
       " 'facebooks': 10003,\n",
       " 'messenger': 16941,\n",
       " 'sms': 25430,\n",
       " 'broadcast': 4136,\n",
       " 'receiver': 22571,\n",
       " 'takes': 27537,\n",
       " 'highest': 12316,\n",
       " 'priority': 21437,\n",
       " 'reboot': 22559,\n",
       " 'documentgetelementsbyclassname': 8435,\n",
       " 'length': 15535,\n",
       " '0': 115,\n",
       " 'bypass': 4293,\n",
       " 'clientside': 5279,\n",
       " 'validation': 29779,\n",
       " 'rvm': 23878,\n",
       " 'installation': 13615,\n",
       " 'ubuntu': 28811,\n",
       " '1104': 366,\n",
       " 'trigger': 28558,\n",
       " 'carousel': 4611,\n",
       " 'socks': 25524,\n",
       " 'proxy': 21708,\n",
       " 'configuration': 5985,\n",
       " 'unable': 29039,\n",
       " 'concanate': 5910,\n",
       " 'string+variable+string': 26437,\n",
       " 'redirecttoaction': 22688,\n",
       " 'iterators': 14211,\n",
       " 'incompatible': 13263,\n",
       " 'destruction': 7851,\n",
       " 'dependent': 7744,\n",
       " 'constructor': 6124,\n",
       " 'parseerror': 20240,\n",
       " 'bad': 3449,\n",
       " 'symfony2': 27029,\n",
       " 'forms': 10849,\n",
       " 'options': 19560,\n",
       " 'laravel5': 15382,\n",
       " 'notfoundhttpexception': 18661,\n",
       " 'routecollectionphp': 23683,\n",
       " '161': 481,\n",
       " 'submission': 26697,\n",
       " 'handling': 12067,\n",
       " 'triggers': 28562,\n",
       " 'oracle': 19591,\n",
       " 'mongoose': 17409,\n",
       " 'callback': 4482,\n",
       " 'javasecurityinvalidalgorithmparameterexception': 14503,\n",
       " 'rc6': 22418,\n",
       " 'well': 30513,\n",
       " 'rc2': 22415,\n",
       " 'updating': 29428,\n",
       " 'models': 17328,\n",
       " '5': 958,\n",
       " 'canvas': 4554,\n",
       " 'issues': 14148,\n",
       " 'comparison': 5784,\n",
       " 'variables': 29852,\n",
       " 'pointing': 20970,\n",
       " 'parse': 20233,\n",
       " 'possible': 21096,\n",
       " 'jump': 15097,\n",
       " 'safely': 23911,\n",
       " 'destroy': 7844,\n",
       " 'window': 30633,\n",
       " 'wxpython': 30998,\n",
       " 'includes': 13247,\n",
       " 'casesensitive': 4641,\n",
       " 'systems': 27291,\n",
       " 'managepy': 16452,\n",
       " 'runserver': 23856,\n",
       " 'saving': 23998,\n",
       " 'frames': 10932,\n",
       " 'waypoints': 30302,\n",
       " 'directions_changed': 8097,\n",
       " 'compilation': 5792,\n",
       " 'found': 10892,\n",
       " 'parsecom': 20236,\n",
       " 'libgdx': 15594,\n",
       " 'implementation': 13159,\n",
       " 'iframe': 12945,\n",
       " 'position': 21076,\n",
       " 'adding': 1747,\n",
       " 'calculate': 4455,\n",
       " 'correlation': 6410,\n",
       " 'remove': 22977,\n",
       " 'highly': 12325,\n",
       " 'correlated': 6409,\n",
       " 'ones': 19310,\n",
       " 'pandas': 20123,\n",
       " 'optimizations': 19545,\n",
       " 'browser': 4149,\n",
       " 'perform': 20492,\n",
       " 'rendered': 23011,\n",
       " 'denied': 7714,\n",
       " 'service': 24631,\n",
       " 'delegate': 7668,\n",
       " 'sbmainworkspace': 24008,\n",
       " 'count': 6437,\n",
       " 'datagridview': 7147,\n",
       " 'scipy': 24099,\n",
       " 'build': 4211,\n",
       " 'osx': 19886,\n",
       " 'ip': 13965,\n",
       " 'address': 1773,\n",
       " 'mask': 16599,\n",
       " 'textbox': 27789,\n",
       " 'adodc': 1833,\n",
       " 'vbnet': 29883,\n",
       " 'commands': 5712,\n",
       " 'selected': 24369,\n",
       " 'codebehind': 5415,\n",
       " 'restrict': 23381,\n",
       " 'jqgrid': 14858,\n",
       " 'textarea': 27780,\n",
       " 'height': 12215,\n",
       " 'grid': 11853,\n",
       " 'generatorelement': 11262,\n",
       " 'sequencetype': 24564,\n",
       " 'editor': 8934,\n",
       " 'serialization': 24577,\n",
       " 'readonlycollections': 22502,\n",
       " 'extend': 9916,\n",
       " 'exceptions': 9712,\n",
       " 'guidelines': 11974,\n",
       " 'understand': 29119,\n",
       " 'parallelinstances': 20171,\n",
       " 'testng': 27753,\n",
       " 'suite': 26844,\n",
       " 'configure': 5997,\n",
       " 'webpage': 30437,\n",
       " 'parameter': 20183,\n",
       " 'owin': 20008,\n",
       " 'host': 12423,\n",
       " 'saved': 23986,\n",
       " 'rake': 22317,\n",
       " 'errors': 9514,\n",
       " 'loading': 15969,\n",
       " 'kind': 15255,\n",
       " 'mutex': 17773,\n",
       " 'calculation': 4459,\n",
       " 'entities': 9290,\n",
       " 'difference': 8027,\n",
       " 'cocos2dx': 5398,\n",
       " 'lua': 16257,\n",
       " 'binding': 3778,\n",
       " 'reset': 23251,\n",
       " 'dispatchertimer': 8224,\n",
       " 'angularjs': 2259,\n",
       " 'verify': 29944,\n",
       " 'box': 4075,\n",
       " 'clicked': 5244,\n",
       " 'structure': 26579,\n",
       " 'pointer': 20962,\n",
       " 'dll': 8351,\n",
       " 'pausing': 20357,\n",
       " '#': 0,\n",
       " 'milliseconds': 17112,\n",
       " 'params': 20203,\n",
       " 'requests': 23186,\n",
       " 'brace': 4086,\n",
       " 'highlighting': 12322,\n",
       " 'visual': 30124,\n",
       " 'studio': 26603,\n",
       " 'email': 9077,\n",
       " 'component': 5840,\n",
       " 'versus': 29980,\n",
       " 'phpmailer': 20711,\n",
       " 'cakephp': 4445,\n",
       " 'include': 13241,\n",
       " 'files': 10343,\n",
       " 'correctly': 6407,\n",
       " 'development': 7903,\n",
       " 'uiimageview': 28898,\n",
       " 'size': 25284,\n",
       " 'n': 17970,\n",
       " 'stdendl': 26191,\n",
       " 'stdcout': 26185,\n",
       " 'seperate': 24551,\n",
       " 'gc': 11184,\n",
       " 'log': 16080,\n",
       " 'vm': 30146,\n",
       " 'server': 24606,\n",
       " 'fix': 10539,\n",
       " 'laravellog': 15385,\n",
       " 'opened': 19450,\n",
       " 'separate': 24542,\n",
       " 'commas': 5718,\n",
       " 'basically': 3553,\n",
       " 'quotes': 22215,\n",
       " 'serversocket': 24623,\n",
       " 'port': 21060,\n",
       " 'supposed': 26912,\n",
       " 'matching': 16630,\n",
       " 'reopen': 23033,\n",
       " 'expressions': 9899,\n",
       " 'void': 30157,\n",
       " 'main': 16366,\n",
       " 'grouping': 11899,\n",
       " 'sort': 25585,\n",
       " 'preserving': 21344,\n",
       " 'systemconcurrencyasynclock': 27135,\n",
       " 'qt': 22083,\n",
       " 'mainwindow': 16393,\n",
       " 'resize': 23272,\n",
       " 'centralwidget': 4783,\n",
       " 'resized': 23273,\n",
       " 'dispatcher': 8220,\n",
       " '00002efd': 123,\n",
       " 'ie': 12888,\n",
       " 'href': 12471,\n",
       " 'compile': 5794,\n",
       " 'single': 25236,\n",
       " 'gradle': 11782,\n",
       " 'examine': 9658,\n",
       " 'code': 5402,\n",
       " 'thats': 27873,\n",
       " 'sensitive': 24527,\n",
       " 'curl': 6823,\n",
       " 'rectangle': 22633,\n",
       " 'pygame': 21866,\n",
       " 'moves': 17498,\n",
       " 'mouse': 17463,\n",
       " 'location': 16051,\n",
       " 'naming': 18010,\n",
       " 'conventions': 6291,\n",
       " 'systemwindowsformsiwin32window': 27371,\n",
       " 'populate': 21039,\n",
       " 'second': 24284,\n",
       " 'particle': 20269,\n",
       " 'installing': 13620,\n",
       " 'sunjava6jre': 26867,\n",
       " 'gives': 11617,\n",
       " 'render': 23003,\n",
       " 'openxml': 19507,\n",
       " 'spreadsheet': 25778,\n",
       " 'sharedstringtable': 24971,\n",
       " 'objectivec': 19042,\n",
       " 'commonly': 5745,\n",
       " 'used': 29553,\n",
       " 'words': 30823,\n",
       " 'nsstring': 18816,\n",
       " 'generics': 11271,\n",
       " 'wildcard': 30599,\n",
       " 'define': 7637,\n",
       " 'vector': 29902,\n",
       " 'undefined': 29101,\n",
       " 'switch': 26997,\n",
       " 'eval': 9583,\n",
       " 'generator': 11261,\n",
       " 'services': 24648,\n",
       " 'implement': 13157,\n",
       " 'ease': 8856,\n",
       " 'animation': 2279,\n",
       " 'jpa': 14831,\n",
       " 'backend': 3410,\n",
       " 'changes': 4881,\n",
       " 'asynchronously': 3003,\n",
       " 'subdomain': 26662,\n",
       " 'creation': 6586,\n",
       " 'linux': 15752,\n",
       " 'preg_match': 21278,\n",
       " 'strings': 26507,\n",
       " 'open': 19430,\n",
       " 'source': 25614,\n",
       " 'computation': 5884,\n",
       " 'null': 18874,\n",
       " 'float': 10618,\n",
       " 'jframe': 14749,\n",
       " 'basic': 3547,\n",
       " 'shapes': 24960,\n",
       " 'regular': 22868,\n",
       " 'startend': 26066,\n",
       " 'detect': 7869,\n",
       " 'brightness': 4129,\n",
       " 'volume': 30161,\n",
       " 'changed': 4876,\n",
       " 'horizontal': 12414,\n",
       " 'slider': 25365,\n",
       " '100': 277,\n",
       " 'width': 30587,\n",
       " 'images': 13087,\n",
       " 'serial': 24571,\n",
       " 'print': 21404,\n",
       " 'arduino': 2619,\n",
       " 'checkbox': 4961,\n",
       " 'outofmemory': 19923,\n",
       " 'cvcreatememstorage': 6941,\n",
       " 'instance': 13626,\n",
       " 'deploy': 7748,\n",
       " 'clickonce': 5252,\n",
       " 'signing': 25145,\n",
       " '2d': 728,\n",
       " 'clickable': 5242,\n",
       " 'created_at': 6538,\n",
       " 'shopping': 25035,\n",
       " 'cart': 4620,\n",
       " 'item': 14165,\n",
       " 'added': 1738,\n",
       " 'compiler': 5798,\n",
       " 'oddity': 19160,\n",
       " 'declared': 7536,\n",
       " 'yet': 31345,\n",
       " 'visible': 30109,\n",
       " 'replacement': 23071,\n",
       " 'cultureinfogetcultures': 6810,\n",
       " 'net': 18143,\n",
       " 'apps': 2574,\n",
       " 'npm': 18696,\n",
       " '+': 89,\n",
       " 'mocha': 17249,\n",
       " 'watch': 30277,\n",
       " 'accurately': 1552,\n",
       " 'watching': 30283,\n",
       " 'dofilterinternal': 8466,\n",
       " 'stl': 26320,\n",
       " 'prevents': 21371,\n",
       " 'strict': 26426,\n",
       " 'superset': 26891,\n",
       " 'clock': 5301,\n",
       " 'setsystemtime': 24875,\n",
       " 'overloading': 19981,\n",
       " 'optional': 19554,\n",
       " 'tuples': 28651,\n",
       " 'statements': 26107,\n",
       " 'tomcat7': 28274,\n",
       " 'shows': 25075,\n",
       " 'inactive': 13213,\n",
       " 'users': 29623,\n",
       " 'manager': 16453,\n",
       " 'backbonejs': 3400,\n",
       " 'elements': 9040,\n",
       " 'fired': 10507,\n",
       " 'views': 30058,\n",
       " 'remote': 22956,\n",
       " 'notification': 18667,\n",
       " 'launch': 15422,\n",
       " 'background': 3415,\n",
       " 'proper': 21621,\n",
       " 'completion': 5822,\n",
       " 'vim': 30076,\n",
       " 'mobile': 17242,\n",
       " 'didnt': 8010,\n",
       " 'runtime': 23859,\n",
       " 'weird': 30506,\n",
       " 'moq': 17443,\n",
       " 'nil': 18344,\n",
       " 'combine': 5638,\n",
       " 'plot': 20904,\n",
       " 'read': 22461,\n",
       " 'sensor': 24529,\n",
       " 'nomethoderror': 18422,\n",
       " 'nilnilclass': 18349,\n",
       " 'jbutton': 14671,\n",
       " 'actionlistener': 1612,\n",
       " 'producing': 21519,\n",
       " 'several': 24928,\n",
       " 'javaawt': 14330,\n",
       " 'security': 24306,\n",
       " 'catching': 4668,\n",
       " 'fullscreen': 11049,\n",
       " 'seems': 24333,\n",
       " 'parallel': 20168,\n",
       " 'prime': 21389,\n",
       " 'factorization': 10033,\n",
       " 'duplicating': 8783,\n",
       " 'script': 24161,\n",
       " 'nohup': 18407,\n",
       " 'cli': 5238,\n",
       " 'tuple': 28648,\n",
       " 'yiibootstrap': 31357,\n",
       " 'tabs': 27501,\n",
       " 'handler': 12056,\n",
       " 'examples': 9667,\n",
       " 'custom': 6876,\n",
       " 'soft': 25525,\n",
       " 'panel': 20139,\n",
       " 'windowsce': 30694,\n",
       " '60': 1035,\n",
       " 'exec': 9738,\n",
       " 'status': 26145,\n",
       " 'realtime': 22539,\n",
       " 'lookup': 16192,\n",
       " 'twitter': 28694,\n",
       " 'followers': 10698,\n",
       " 'looking': 16190,\n",
       " 'day': 7365,\n",
       " 'calendar': 4465,\n",
       " 'three': 28018,\n",
       " 'sprite': 25824,\n",
       " 'bitmapsave': 3830,\n",
       " 'huge': 12710,\n",
       " 'leak': 15494,\n",
       " 'many': 16486,\n",
       " 'relationships': 22906,\n",
       " 'taxonomy': 27613,\n",
       " 'eloquent': 9070,\n",
       " 'write': 30905,\n",
       " 'encoding': 9184,\n",
       " 'utf8': 29669,\n",
       " 'storing': 26359,\n",
       " '2dimensional': 731,\n",
       " ...}"
      ]
     },
     "execution_count": 45,
     "metadata": {},
     "output_type": "execute_result"
    }
   ],
   "source": [
    "tfidf_vocab"
   ]
  },
  {
   "cell_type": "code",
   "execution_count": 46,
   "metadata": {},
   "outputs": [
    {
     "data": {
      "text/plain": [
       "8649"
      ]
     },
     "execution_count": 46,
     "metadata": {},
     "output_type": "execute_result"
    }
   ],
   "source": [
    "tfidf_vocab['draw']"
   ]
  },
  {
   "cell_type": "code",
   "execution_count": 47,
   "metadata": {},
   "outputs": [
    {
     "data": {
      "text/plain": [
       "0.41353932920050412"
      ]
     },
     "execution_count": 47,
     "metadata": {},
     "output_type": "execute_result"
    }
   ],
   "source": [
    "X_train_tfidf[0][0,tfidf_vocab['draw']]"
   ]
  },
  {
   "cell_type": "code",
   "execution_count": 48,
   "metadata": {},
   "outputs": [
    {
     "data": {
      "text/plain": [
       "0.66467595449826955"
      ]
     },
     "execution_count": 48,
     "metadata": {},
     "output_type": "execute_result"
    }
   ],
   "source": [
    "X_train_tfidf[0][0,tfidf_vocab['dotplot']]"
   ]
  },
  {
   "cell_type": "code",
   "execution_count": 49,
   "metadata": {},
   "outputs": [
    {
     "data": {
      "text/plain": [
       "0.0"
      ]
     },
     "execution_count": 49,
     "metadata": {},
     "output_type": "execute_result"
    }
   ],
   "source": [
    "X_train_tfidf[0][0,tfidf_vocab['c++']]"
   ]
  },
  {
   "cell_type": "code",
   "execution_count": 50,
   "metadata": {},
   "outputs": [
    {
     "data": {
      "text/plain": [
       "4322"
      ]
     },
     "execution_count": 50,
     "metadata": {},
     "output_type": "execute_result"
    }
   ],
   "source": [
    "tfidf_vocab['c#']"
   ]
  },
  {
   "cell_type": "markdown",
   "metadata": {},
   "source": [
    "If you can't find it, we need to understand how did it happen that we lost them? It happened during the built-in tokenization of TfidfVectorizer. Luckily, we can influence on this process. Get back to the function above and use '(\\S+)' regexp as a *token_pattern* in the constructor of the vectorizer.  "
   ]
  },
  {
   "cell_type": "markdown",
   "metadata": {},
   "source": [
    "Now, use this transormation for the data and check again."
   ]
  },
  {
   "cell_type": "code",
   "execution_count": 51,
   "metadata": {
    "collapsed": true
   },
   "outputs": [],
   "source": [
    "######### YOUR CODE HERE #############"
   ]
  },
  {
   "cell_type": "markdown",
   "metadata": {},
   "source": [
    "### MultiLabel classifier\n",
    "\n",
    "As we have noticed before, in this task each example can have multiple tags. To deal with such kind of prediction, we need to transform labels in a binary form and the prediction will be a mask of 0s and 1s. For this purpose it is convenient to use [MultiLabelBinarizer](http://scikit-learn.org/stable/modules/generated/sklearn.preprocessing.MultiLabelBinarizer.html) from *sklearn*."
   ]
  },
  {
   "cell_type": "code",
   "execution_count": 52,
   "metadata": {
    "collapsed": true
   },
   "outputs": [],
   "source": [
    "from sklearn.preprocessing import MultiLabelBinarizer"
   ]
  },
  {
   "cell_type": "code",
   "execution_count": 53,
   "metadata": {
    "collapsed": true
   },
   "outputs": [],
   "source": [
    "mlb = MultiLabelBinarizer(classes=sorted(tags_counts.keys()))\n",
    "y_train = mlb.fit_transform(y_train)\n",
    "y_val = mlb.fit_transform(y_val)"
   ]
  },
  {
   "cell_type": "code",
   "execution_count": 54,
   "metadata": {},
   "outputs": [
    {
     "data": {
      "text/plain": [
       "dict_keys(['r', 'php', 'mysql', 'c#', 'javascript', 'jquery', 'java', 'ruby-on-rails', 'ruby', 'ruby-on-rails-3', 'json', 'spring', 'spring-mvc', 'codeigniter', 'class', 'html', 'ios', 'c++', 'eclipse', 'python', 'list', 'objective-c', 'swift', 'xaml', 'asp.net', 'wpf', 'multithreading', 'image', 'performance', 'twitter-bootstrap', 'linq', 'xml', 'numpy', 'ajax', 'django', 'laravel', 'android', 'rest', 'asp.net-mvc', 'web-services', 'string', 'excel', 'winforms', 'arrays', 'c', 'sockets', 'osx', 'entity-framework', 'mongodb', 'opencv', 'xcode', 'uitableview', 'algorithm', 'python-2.7', 'angularjs', 'dom', 'swing', '.net', 'vb.net', 'google-maps', 'hibernate', 'wordpress', 'iphone', 'sql', 'visual-studio', 'linux', 'facebook', 'database', 'file', 'generics', 'visual-studio-2010', 'regex', 'html5', 'jsp', 'csv', 'forms', 'validation', 'parsing', 'function', 'pandas', 'sorting', 'qt', 'wcf', 'css', 'date', 'node.js', 'sql-server', 'unit-testing', 'python-3.x', 'loops', 'windows', 'pointers', 'oop', 'datetime', 'servlets', 'session', 'cocoa-touch', 'apache', 'selenium', 'maven'])"
      ]
     },
     "execution_count": 54,
     "metadata": {},
     "output_type": "execute_result"
    }
   ],
   "source": [
    "tags_counts.keys()"
   ]
  },
  {
   "cell_type": "markdown",
   "metadata": {},
   "source": [
    "Implement the function *train_classifier* for training a classifier. In this task we suggest to use One-vs-Rest approach, which is implemented in [OneVsRestClassifier](http://scikit-learn.org/stable/modules/generated/sklearn.multiclass.OneVsRestClassifier.html) class. In this approach *k* classifiers (= number of tags) are trained. As a basic classifier, use [LogisticRegression](http://scikit-learn.org/stable/modules/generated/sklearn.linear_model.LogisticRegression.html). It is one of the simplest methods, but often it performs good enough in text classification tasks. It might take some time, because a number of classifiers to train is large."
   ]
  },
  {
   "cell_type": "code",
   "execution_count": 55,
   "metadata": {
    "collapsed": true
   },
   "outputs": [],
   "source": [
    "from sklearn.multiclass import OneVsRestClassifier\n",
    "from sklearn.linear_model import LogisticRegression, RidgeClassifier"
   ]
  },
  {
   "cell_type": "code",
   "execution_count": 56,
   "metadata": {
    "collapsed": true
   },
   "outputs": [],
   "source": [
    "def train_classifier(X_train, y_train):\n",
    "    \"\"\"\n",
    "      X_train, y_train — training data\n",
    "      \n",
    "      return: trained classifier\n",
    "    \"\"\"\n",
    "    \n",
    "    # Create and fit LogisticRegression wraped into OneVsRestClassifier.\n",
    "    classifier = OneVsRestClassifier(LogisticRegression())\n",
    "    classifier.fit(X_train, y_train)\n",
    "    \n",
    "    return classifier\n",
    "\n",
    "    ######################################\n",
    "    ######### YOUR CODE HERE #############\n",
    "    ######################################    "
   ]
  },
  {
   "cell_type": "markdown",
   "metadata": {},
   "source": [
    "Train the classifiers for different data transformations: *bag-of-words* and *tf-idf*."
   ]
  },
  {
   "cell_type": "code",
   "execution_count": 57,
   "metadata": {
    "collapsed": true
   },
   "outputs": [],
   "source": [
    "classifier_mybag = train_classifier(X_train_mybag, y_train)\n",
    "classifier_tfidf = train_classifier(X_train_tfidf, y_train)"
   ]
  },
  {
   "cell_type": "markdown",
   "metadata": {},
   "source": [
    "Now you can create predictions for the data. You will need two types of predictions: labels and scores."
   ]
  },
  {
   "cell_type": "code",
   "execution_count": 58,
   "metadata": {
    "collapsed": true
   },
   "outputs": [],
   "source": [
    "y_val_predicted_labels_mybag = classifier_mybag.predict(X_val_mybag)\n",
    "y_val_predicted_scores_mybag = classifier_mybag.decision_function(X_val_mybag)\n",
    "\n",
    "y_val_predicted_labels_tfidf = classifier_tfidf.predict(X_val_tfidf)\n",
    "y_val_predicted_scores_tfidf = classifier_tfidf.decision_function(X_val_tfidf)"
   ]
  },
  {
   "cell_type": "markdown",
   "metadata": {},
   "source": [
    "Now take a look at how classifier, which uses TF-IDF, works for a few examples:"
   ]
  },
  {
   "cell_type": "code",
   "execution_count": 59,
   "metadata": {},
   "outputs": [
    {
     "name": "stdout",
     "output_type": "stream",
     "text": [
      "Title:\todbc_exec always fail\n",
      "True labels:\tphp,sql\n",
      "Predicted labels:\t\n",
      "\n",
      "\n",
      "Title:\taccess base classes variable within child class\n",
      "True labels:\tjavascript\n",
      "Predicted labels:\tclass\n",
      "\n",
      "\n",
      "Title:\tcontenttype application json required rails\n",
      "True labels:\truby,ruby-on-rails\n",
      "Predicted labels:\tjson,ruby-on-rails\n",
      "\n",
      "\n"
     ]
    }
   ],
   "source": [
    "y_val_pred_inversed = mlb.inverse_transform(y_val_predicted_labels_tfidf)\n",
    "y_val_inversed = mlb.inverse_transform(y_val)\n",
    "for i in range(3):\n",
    "    print('Title:\\t{}\\nTrue labels:\\t{}\\nPredicted labels:\\t{}\\n\\n'.format(\n",
    "        X_val[i],\n",
    "        ','.join(y_val_inversed[i]),\n",
    "        ','.join(y_val_pred_inversed[i])\n",
    "    ))"
   ]
  },
  {
   "cell_type": "code",
   "execution_count": 60,
   "metadata": {},
   "outputs": [
    {
     "data": {
      "text/plain": [
       "19155"
      ]
     },
     "execution_count": 60,
     "metadata": {},
     "output_type": "execute_result"
    }
   ],
   "source": [
    "tfidf_vocab['odbc_exec']"
   ]
  },
  {
   "cell_type": "code",
   "execution_count": 61,
   "metadata": {},
   "outputs": [
    {
     "data": {
      "text/plain": [
       "'draw stacked dotplot r'"
      ]
     },
     "execution_count": 61,
     "metadata": {},
     "output_type": "execute_result"
    }
   ],
   "source": [
    "X_train[0]"
   ]
  },
  {
   "cell_type": "code",
   "execution_count": 62,
   "metadata": {},
   "outputs": [
    {
     "data": {
      "text/plain": [
       "array([[0, 0, 0, 0, 0, 0, 0, 0, 0, 0, 0, 0, 0, 0, 0, 0, 0, 0, 0, 0, 0, 0,\n",
       "        0, 0, 0, 0, 0, 0, 0, 0, 0, 0, 0, 0, 0, 0, 0, 0, 0, 0, 0, 0, 0, 0,\n",
       "        0, 0, 0, 0, 0, 0, 0, 0, 0, 0, 0, 0, 0, 0, 0, 0, 0, 0, 0, 0, 0, 0,\n",
       "        1, 0, 0, 0, 0, 0, 0, 0, 0, 0, 0, 0, 0, 0, 0, 0, 0, 0, 0, 0, 0, 0,\n",
       "        0, 0, 0, 0, 0, 0, 0, 0, 0, 0, 0, 0]])"
      ]
     },
     "execution_count": 62,
     "metadata": {},
     "output_type": "execute_result"
    }
   ],
   "source": [
    "classifier_mybag.predict(X_train_mybag[0])"
   ]
  },
  {
   "cell_type": "code",
   "execution_count": 63,
   "metadata": {},
   "outputs": [
    {
     "data": {
      "text/plain": [
       "array([0, 0, 0, 0, 0, 0, 0, 0, 0, 0, 0, 0, 0, 0, 0, 0, 0, 0, 0, 0, 0, 0, 0,\n",
       "       0, 0, 0, 0, 0, 0, 0, 0, 0, 0, 0, 0, 0, 0, 0, 0, 0, 0, 0, 0, 0, 0, 0,\n",
       "       0, 0, 0, 0, 0, 0, 0, 0, 0, 0, 0, 0, 0, 0, 0, 0, 0, 0, 0, 0, 1, 0, 0,\n",
       "       0, 0, 0, 0, 0, 0, 0, 0, 0, 0, 0, 0, 0, 0, 0, 0, 0, 0, 0, 0, 0, 0, 0,\n",
       "       0, 0, 0, 0, 0, 0, 0, 0])"
      ]
     },
     "execution_count": 63,
     "metadata": {},
     "output_type": "execute_result"
    }
   ],
   "source": [
    "y_train[0]"
   ]
  },
  {
   "cell_type": "code",
   "execution_count": 64,
   "metadata": {},
   "outputs": [
    {
     "data": {
      "text/plain": [
       "[('r',)]"
      ]
     },
     "execution_count": 64,
     "metadata": {},
     "output_type": "execute_result"
    }
   ],
   "source": [
    "mlb.inverse_transform(classifier_mybag.predict(X_train_mybag[0]))"
   ]
  },
  {
   "cell_type": "code",
   "execution_count": 65,
   "metadata": {},
   "outputs": [
    {
     "data": {
      "text/plain": [
       "[('r',)]"
      ]
     },
     "execution_count": 65,
     "metadata": {},
     "output_type": "execute_result"
    }
   ],
   "source": [
    "mlb.inverse_transform(np.array([y_train[0]]))"
   ]
  },
  {
   "cell_type": "code",
   "execution_count": 66,
   "metadata": {},
   "outputs": [
    {
     "data": {
      "text/plain": [
       "'odbc_exec always fail'"
      ]
     },
     "execution_count": 66,
     "metadata": {},
     "output_type": "execute_result"
    }
   ],
   "source": [
    "X_val[0]"
   ]
  },
  {
   "cell_type": "code",
   "execution_count": 67,
   "metadata": {},
   "outputs": [
    {
     "data": {
      "text/plain": [
       "0.7342911696673684"
      ]
     },
     "execution_count": 67,
     "metadata": {},
     "output_type": "execute_result"
    }
   ],
   "source": [
    "X_val_tfidf[0][0,tfidf_vocab['odbc_exec']]"
   ]
  },
  {
   "cell_type": "code",
   "execution_count": 68,
   "metadata": {},
   "outputs": [
    {
     "data": {
      "text/plain": [
       "<1x31497 sparse matrix of type '<class 'numpy.float64'>'\n",
       "\twith 3 stored elements in Compressed Sparse Row format>"
      ]
     },
     "execution_count": 68,
     "metadata": {},
     "output_type": "execute_result"
    }
   ],
   "source": [
    "X_val_tfidf[0]"
   ]
  },
  {
   "cell_type": "code",
   "execution_count": 69,
   "metadata": {},
   "outputs": [
    {
     "data": {
      "text/plain": [
       "[()]"
      ]
     },
     "execution_count": 69,
     "metadata": {},
     "output_type": "execute_result"
    }
   ],
   "source": [
    "mlb.inverse_transform(classifier_mybag.predict(X_val_mybag[0]))"
   ]
  },
  {
   "cell_type": "code",
   "execution_count": 70,
   "metadata": {},
   "outputs": [
    {
     "data": {
      "text/plain": [
       "array([[0, 0, 0, 0, 0, 0, 0, 0, 0, 0, 0, 0, 0, 0, 0, 0, 0, 0, 0, 0, 0, 0,\n",
       "        0, 0, 0, 0, 0, 0, 0, 0, 0, 0, 0, 0, 0, 0, 0, 0, 0, 0, 0, 0, 0, 0,\n",
       "        0, 0, 0, 0, 0, 0, 0, 0, 0, 0, 0, 0, 0, 0, 0, 0, 0, 0, 0, 0, 0, 0,\n",
       "        0, 0, 0, 0, 0, 0, 0, 0, 0, 0, 0, 0, 0, 0, 0, 0, 0, 0, 0, 0, 0, 0,\n",
       "        0, 0, 0, 0, 0, 0, 0, 0, 0, 0, 0, 0]])"
      ]
     },
     "execution_count": 70,
     "metadata": {},
     "output_type": "execute_result"
    }
   ],
   "source": [
    "classifier_mybag.predict(X_val_mybag[0])"
   ]
  },
  {
   "cell_type": "code",
   "execution_count": 71,
   "metadata": {},
   "outputs": [
    {
     "data": {
      "text/plain": [
       "array([[0, 0, 0, 0, 0, 0, 0, 0, 0, 0, 0, 0, 0, 0, 0, 0, 0, 0, 0, 0, 0, 0,\n",
       "        0, 0, 0, 0, 0, 0, 0, 0, 0, 0, 0, 0, 0, 0, 0, 0, 0, 0, 0, 0, 0, 0,\n",
       "        0, 0, 0, 0, 0, 0, 0, 0, 0, 0, 0, 0, 0, 0, 0, 0, 0, 0, 0, 0, 0, 0,\n",
       "        0, 0, 0, 0, 0, 0, 0, 0, 0, 0, 0, 0, 0, 0, 0, 0, 0, 0, 0, 0, 0, 0,\n",
       "        0, 0, 0, 0, 0, 0, 0, 0, 0, 0, 0, 0]])"
      ]
     },
     "execution_count": 71,
     "metadata": {},
     "output_type": "execute_result"
    }
   ],
   "source": [
    "classifier_tfidf.predict(X_val_tfidf[0])"
   ]
  },
  {
   "cell_type": "code",
   "execution_count": null,
   "metadata": {
    "collapsed": true
   },
   "outputs": [],
   "source": []
  },
  {
   "cell_type": "markdown",
   "metadata": {},
   "source": [
    "Now, we would need to compare the results of different predictions, e.g. to see whether TF-IDF transformation helps or to try different regularization techniques in logistic regression. For all these experiments, we need to setup evaluation procedure. "
   ]
  },
  {
   "cell_type": "markdown",
   "metadata": {},
   "source": [
    "### Evaluation\n",
    "\n",
    "To evaluate the results we will use several classification metrics:\n",
    " - [Accuracy](http://scikit-learn.org/stable/modules/generated/sklearn.metrics.accuracy_score.html)\n",
    " - [F1-score](http://scikit-learn.org/stable/modules/generated/sklearn.metrics.f1_score.html)\n",
    " - [Area under ROC-curve](http://scikit-learn.org/stable/modules/generated/sklearn.metrics.roc_auc_score.html)\n",
    " - [Area under precision-recall curve](http://scikit-learn.org/stable/modules/generated/sklearn.metrics.average_precision_score.html#sklearn.metrics.average_precision_score) \n",
    " \n",
    "Make sure you are familiar with all of them. How would you expect the things work for the multi-label scenario? Read about micro/macro/weighted averaging following the sklearn links provided above."
   ]
  },
  {
   "cell_type": "code",
   "execution_count": 72,
   "metadata": {
    "collapsed": true
   },
   "outputs": [],
   "source": [
    "from sklearn.metrics import accuracy_score\n",
    "from sklearn.metrics import f1_score\n",
    "from sklearn.metrics import roc_auc_score \n",
    "from sklearn.metrics import average_precision_score\n",
    "from sklearn.metrics import recall_score"
   ]
  },
  {
   "cell_type": "markdown",
   "metadata": {},
   "source": [
    "Implement the function *print_evaluation_scores* which calculates and prints to stdout:\n",
    " - *accuracy*\n",
    " - *F1-score macro/micro/weighted*\n",
    " - *Precision macro/micro/weighted*"
   ]
  },
  {
   "cell_type": "code",
   "execution_count": 73,
   "metadata": {
    "collapsed": true
   },
   "outputs": [],
   "source": [
    "def print_evaluation_scores(y_val, predicted):\n",
    "    print('accuracy: {}'.format(accuracy_score(y_val, predicted)))\n",
    "    print('f1 macro: {}'.format(f1_score(y_val, predicted, average='macro')))\n",
    "    print('f1 micro: {}'.format(f1_score(y_val, predicted, average='micro')))\n",
    "    print('f1 weighted: {}'.format(f1_score(y_val, predicted, average='weighted')))\n",
    "    print('precision macro: {}'.format(average_precision_score(y_val, predicted, average='macro')))\n",
    "    print('precision micro: {}'.format(average_precision_score(y_val, predicted, average='micro')))\n",
    "    print('precision weighted: {}'.format(average_precision_score(y_val, predicted, average='weighted')))\n",
    "    "
   ]
  },
  {
   "cell_type": "code",
   "execution_count": 74,
   "metadata": {},
   "outputs": [
    {
     "name": "stdout",
     "output_type": "stream",
     "text": [
      "Bag-of-words\n",
      "accuracy: 0.31106666666666666\n",
      "f1 macro: 0.4716166754783771\n",
      "f1 micro: 0.6214591532240626\n",
      "f1 weighted: 0.59714749372892\n",
      "precision macro: 0.3164789526411512\n",
      "precision micro: 0.42535011768429537\n",
      "precision weighted: 0.45931075416088646\n",
      "Tfidf\n",
      "accuracy: 0.3362\n",
      "f1 macro: 0.4598626917994775\n",
      "f1 micro: 0.6456318582918172\n",
      "f1 weighted: 0.6197394067590059\n",
      "precision macro: 0.311581674591994\n",
      "precision micro: 0.459238486533165\n",
      "precision weighted: 0.48806923936446434\n"
     ]
    }
   ],
   "source": [
    "print('Bag-of-words')\n",
    "print_evaluation_scores(y_val, y_val_predicted_labels_mybag)\n",
    "print('Tfidf')\n",
    "print_evaluation_scores(y_val, y_val_predicted_labels_tfidf)"
   ]
  },
  {
   "cell_type": "markdown",
   "metadata": {},
   "source": [
    "You might also want to plot some generalization of the [ROC curve](http://scikit-learn.org/stable/modules/model_evaluation.html#receiver-operating-characteristic-roc) for the case of multi-label classification. Provided function *roc_auc* can make it for you. The input parameters of this function are:\n",
    " - true labels\n",
    " - decision functions scores\n",
    " - number of classes"
   ]
  },
  {
   "cell_type": "code",
   "execution_count": 75,
   "metadata": {
    "collapsed": true
   },
   "outputs": [],
   "source": [
    "from metrics import roc_auc\n",
    "%matplotlib inline"
   ]
  },
  {
   "cell_type": "code",
   "execution_count": 76,
   "metadata": {},
   "outputs": [
    {
     "data": {
      "image/png": "[encoded data removed]",
      "text/plain": [
       "<matplotlib.figure.Figure at 0x1f95584eda0>"
      ]
     },
     "metadata": {},
     "output_type": "display_data"
    }
   ],
   "source": [
    "n_classes = len(tags_counts)\n",
    "roc_auc(y_val, y_val_predicted_scores_mybag, n_classes)"
   ]
  },
  {
   "cell_type": "code",
   "execution_count": 77,
   "metadata": {},
   "outputs": [
    {
     "data": {
      "image/png": "[encoded data removed]",
      "text/plain": [
       "<matplotlib.figure.Figure at 0x1f9560dc208>"
      ]
     },
     "metadata": {},
     "output_type": "display_data"
    }
   ],
   "source": [
    "n_classes = len(tags_counts)\n",
    "roc_auc(y_val, y_val_predicted_scores_tfidf, n_classes)"
   ]
  },
  {
   "cell_type": "markdown",
   "metadata": {},
   "source": [
    "**Task 4 (MultilabelClassification).** Once we have the evaluation set up, we suggest that you experiment a bit with training your classifiers. We will use *F1-score weighted* as an evaluation metric. Our recommendation:\n",
    "- compare the quality of the bag-of-words and TF-IDF approaches and chose one of them.\n",
    "- for the chosen one, try *L1* and *L2*-regularization techniques in Logistic Regression with different coefficients (e.g. C equal to 0.1, 1, 10, 100).\n",
    "\n",
    "You also could try other improvements of the preprocessing / model, if you want. "
   ]
  },
  {
   "cell_type": "code",
   "execution_count": 217,
   "metadata": {},
   "outputs": [
    {
     "name": "stdout",
     "output_type": "stream",
     "text": [
      "Tfidf\n",
      "accuracy: 0.3686\n",
      "f1 macro: 0.5101424780090777\n",
      "f1 micro: 0.6807853025204104\n",
      "f1 weighted: 0.6592571533834067\n",
      "precision macro: 0.3429508459279901\n",
      "precision micro: 0.48912198008992386\n",
      "precision weighted: 0.517733761126971\n"
     ]
    },
    {
     "data": {
      "image/png": "[encoded data removed]",
      "text/plain": [
       "<matplotlib.figure.Figure at 0x12ba73a7748>"
      ]
     },
     "metadata": {},
     "output_type": "display_data"
    }
   ],
   "source": [
    "classifier_tfidf = OneVsRestClassifier(LogisticRegression(C=10))\n",
    "classifier_tfidf.fit(X_train_tfidf, y_train)\n",
    "\n",
    "y_val_predicted_labels_tfidf = classifier_tfidf.predict(X_val_tfidf)\n",
    "y_val_predicted_scores_tfidf = classifier_tfidf.decision_function(X_val_tfidf)\n",
    "\n",
    "print('Tfidf')\n",
    "print_evaluation_scores(y_val, y_val_predicted_labels_tfidf)\n",
    "\n",
    "n_classes = len(tags_counts)\n",
    "roc_auc(y_val, y_val_predicted_scores_mybag, n_classes)"
   ]
  },
  {
   "cell_type": "code",
   "execution_count": 81,
   "metadata": {
    "collapsed": true
   },
   "outputs": [],
   "source": [
    "def evaluate_regressor(regressor):\n",
    "    classifier_tfidf = OneVsRestClassifier(regressor, n_jobs=8)\n",
    "    classifier_tfidf.fit(X_train_tfidf, y_train)\n",
    "\n",
    "    y_val_predicted_labels_tfidf = classifier_tfidf.predict(X_val_tfidf)\n",
    "    y_val_predicted_scores_tfidf = classifier_tfidf.decision_function(X_val_tfidf)\n",
    "\n",
    "    print('Tfidf')\n",
    "    print_evaluation_scores(y_val, y_val_predicted_labels_tfidf)\n",
    "\n",
    "    n_classes = len(tags_counts)\n",
    "    roc_auc(y_val, y_val_predicted_scores_mybag, n_classes)    \n",
    "\n",
    "    return classifier_tfidf"
   ]
  },
  {
   "cell_type": "code",
   "execution_count": 82,
   "metadata": {},
   "outputs": [
    {
     "name": "stdout",
     "output_type": "stream",
     "text": [
      "Tfidf\n",
      "accuracy: 0.33876666666666666\n",
      "f1 macro: 0.4922984992624061\n",
      "f1 micro: 0.6588925800734148\n",
      "f1 weighted: 0.6439352503197893\n",
      "precision macro: 0.31158457660720695\n",
      "precision micro: 0.45016735155657306\n",
      "precision weighted: 0.4884824626053142\n"
     ]
    },
    {
     "data": {
      "image/png": "[encoded data removed]",
      "text/plain": [
       "<matplotlib.figure.Figure at 0x1f92a8e9668>"
      ]
     },
     "metadata": {},
     "output_type": "display_data"
    },
    {
     "data": {
      "text/plain": [
       "OneVsRestClassifier(estimator=LogisticRegression(C=100, class_weight=None, dual=False, fit_intercept=True,\n",
       "          intercept_scaling=1, max_iter=100, multi_class='ovr', n_jobs=8,\n",
       "          penalty='l2', random_state=None, solver='liblinear', tol=0.0001,\n",
       "          verbose=0, warm_start=False),\n",
       "          n_jobs=8)"
      ]
     },
     "execution_count": 82,
     "metadata": {},
     "output_type": "execute_result"
    }
   ],
   "source": [
    "evaluate_regressor(LogisticRegression(C=100, n_jobs=8))"
   ]
  },
  {
   "cell_type": "code",
   "execution_count": 83,
   "metadata": {
    "scrolled": true
   },
   "outputs": [
    {
     "name": "stdout",
     "output_type": "stream",
     "text": [
      "Tfidf\n",
      "accuracy: 0.3686\n",
      "f1 macro: 0.5101424780090777\n",
      "f1 micro: 0.6807853025204104\n",
      "f1 weighted: 0.6592571533834067\n",
      "precision macro: 0.3429508459279901\n",
      "precision micro: 0.48912198008992386\n",
      "precision weighted: 0.517733761126971\n"
     ]
    },
    {
     "data": {
      "image/png": "[encoded data removed]",
      "text/plain": [
       "<matplotlib.figure.Figure at 0x1f94e070828>"
      ]
     },
     "metadata": {},
     "output_type": "display_data"
    },
    {
     "data": {
      "text/plain": [
       "OneVsRestClassifier(estimator=LogisticRegression(C=10, class_weight=None, dual=False, fit_intercept=True,\n",
       "          intercept_scaling=1, max_iter=100, multi_class='ovr', n_jobs=8,\n",
       "          penalty='l2', random_state=None, solver='liblinear', tol=0.0001,\n",
       "          verbose=0, warm_start=False),\n",
       "          n_jobs=8)"
      ]
     },
     "execution_count": 83,
     "metadata": {},
     "output_type": "execute_result"
    }
   ],
   "source": [
    "evaluate_regressor(LogisticRegression(C=10, n_jobs=8))"
   ]
  },
  {
   "cell_type": "code",
   "execution_count": null,
   "metadata": {
    "collapsed": true
   },
   "outputs": [],
   "source": []
  },
  {
   "cell_type": "code",
   "execution_count": null,
   "metadata": {
    "collapsed": true
   },
   "outputs": [],
   "source": [
    "evaluate_regressor(LogisticRegression(C=10,penalty='l1'))"
   ]
  },
  {
   "cell_type": "markdown",
   "metadata": {},
   "source": [
    "When you are happy with the quality, create predictions for *test* set, which you will submit to Coursera."
   ]
  },
  {
   "cell_type": "code",
   "execution_count": 84,
   "metadata": {},
   "outputs": [
    {
     "name": "stdout",
     "output_type": "stream",
     "text": [
      "Tfidf\n",
      "accuracy: 0.3686\n",
      "f1 macro: 0.5101424780090777\n",
      "f1 micro: 0.6807853025204104\n",
      "f1 weighted: 0.6592571533834067\n",
      "precision macro: 0.3429508459279901\n",
      "precision micro: 0.48912198008992386\n",
      "precision weighted: 0.517733761126971\n"
     ]
    },
    {
     "data": {
      "image/png": "[encoded data removed]",
      "text/plain": [
       "<matplotlib.figure.Figure at 0x1f9561535f8>"
      ]
     },
     "metadata": {},
     "output_type": "display_data"
    },
    {
     "name": "stdout",
     "output_type": "stream",
     "text": [
      "Current answer for task MultilabelClassification is:\n",
      " 0\tmysql,php\n",
      "1\tjavascript\n",
      "2\t\n",
      "3\tjavascript,jquery\n",
      "4\tandroid,java\n",
      "5\tphp,xml\n",
      "6\tajax,json,web-services\n",
      "7\t...\n"
     ]
    }
   ],
   "source": [
    "classifier = evaluate_regressor(LogisticRegression(C=10, n_jobs=8))\n",
    "\n",
    "test_predictions = classifier.predict(X_test_tfidf)\n",
    "test_pred_inversed = mlb.inverse_transform(test_predictions)\n",
    "\n",
    "test_predictions_for_submission = '\\n'.join('%i\\t%s' % (i, ','.join(row)) for i, row in enumerate(test_pred_inversed))\n",
    "grader.submit_tag('MultilabelClassification', test_predictions_for_submission)"
   ]
  },
  {
   "cell_type": "markdown",
   "metadata": {},
   "source": [
    "### Analysis of the most important features"
   ]
  },
  {
   "cell_type": "markdown",
   "metadata": {},
   "source": [
    "Finally, it is usually a good idea to look at the features (words or n-grams) that are used with the largest weigths in your logistic regression model."
   ]
  },
  {
   "cell_type": "markdown",
   "metadata": {},
   "source": [
    "Implement the function *print_words_for_tag* to find them. Get back to sklearn documentation on [OneVsRestClassifier](http://scikit-learn.org/stable/modules/generated/sklearn.multiclass.OneVsRestClassifier.html) and [LogisticRegression](http://scikit-learn.org/stable/modules/generated/sklearn.linear_model.LogisticRegression.html) if needed."
   ]
  },
  {
   "cell_type": "code",
   "execution_count": 99,
   "metadata": {
    "collapsed": true
   },
   "outputs": [],
   "source": [
    "def print_words_for_tag(classifier, tag, tags_classes, index_to_words, all_words):\n",
    "    \"\"\"\n",
    "        classifier: trained classifier\n",
    "        tag: particular tag\n",
    "        tags_classes: a list of classes names from MultiLabelBinarizer\n",
    "        index_to_words: index_to_words transformation\n",
    "        all_words: all words in the dictionary\n",
    "        \n",
    "        return nothing, just print top 5 positive and top 5 negative words for current tag\n",
    "    \"\"\"\n",
    "    print('Tag:\\t{}'.format(tag))\n",
    "    \n",
    "    # Extract an estimator from the classifier for the given tag.\n",
    "    estimator = classifier.estimators_[tags_classes.index(tag)]\n",
    "    # Extract feature coefficients from the estimator. \n",
    "    coefs = estimator.coef_\n",
    "    \n",
    "    ######################################\n",
    "    ######### YOUR CODE HERE #############\n",
    "    ######################################\n",
    "    \n",
    "    words_by_coefs = sorted(enumerate(coefs[0]), key=lambda x: x[1], reverse=True)\n",
    "    top_positive_words = [index_to_words[i[0]] for i in words_by_coefs[:5]] # top-5 words sorted by the coefficiens.\n",
    "    top_negative_words =  [index_to_words[i[0]] for i in words_by_coefs[-5:]] # bottom-5 words  sorted by the coefficients.\n",
    "    print('Top positive words:\\t{}'.format(', '.join(top_positive_words)))\n",
    "    print('Top negative words:\\t{}\\n'.format(', '.join(top_negative_words)))"
   ]
  },
  {
   "cell_type": "code",
   "execution_count": 100,
   "metadata": {},
   "outputs": [
    {
     "name": "stdout",
     "output_type": "stream",
     "text": [
      "Tag:\tc\n",
      "Top positive words:\tc, malloc, scanf, gcc, printf\n",
      "Top negative words:\tjavascript, python, php, java, objective\n",
      "\n",
      "Tag:\tc++\n",
      "Top positive words:\tc++, qt, boost, opencv, mfc\n",
      "Top negative words:\tc#, javascript, python, php, java\n",
      "\n",
      "Tag:\tlinux\n",
      "Top positive words:\tlinux, ubuntu, shared, signal, address\n",
      "Top negative words:\tmethod, array, jquery, c#, javascript\n",
      "\n"
     ]
    }
   ],
   "source": [
    "print_words_for_tag(classifier_tfidf, 'c', mlb.classes, tfidf_reversed_vocab, ALL_WORDS)\n",
    "print_words_for_tag(classifier_tfidf, 'c++', mlb.classes, tfidf_reversed_vocab, ALL_WORDS)\n",
    "print_words_for_tag(classifier_tfidf, 'linux', mlb.classes, tfidf_reversed_vocab, ALL_WORDS)"
   ]
  },
  {
   "cell_type": "markdown",
   "metadata": {},
   "source": [
    "### Authorization & Submission\n",
    "To submit assignment parts to Cousera platform, please, enter your e-mail and token into variables below. You can generate token on this programming assignment page. <b>Note:</b> Token expires 30 minutes after generation."
   ]
  },
  {
   "cell_type": "code",
   "execution_count": 101,
   "metadata": {},
   "outputs": [
    {
     "name": "stdout",
     "output_type": "stream",
     "text": [
      "You want to submit these parts:\n",
      "Task TextPrepare:\n",
      " sqlite php readonly\n",
      "creating multiple textboxes dynamically\n",
      "self one prefer javascript\n",
      "save php date...\n",
      "Task WordsTagsCount:\n",
      " javascript,c#,java\n",
      "to,in,a...\n",
      "Task BagOfWords:\n",
      " 6.0...\n",
      "Task MultilabelClassification:\n",
      " 0\tmysql,php\n",
      "1\tjavascript\n",
      "2\t\n",
      "3\tjavascript,jquery\n",
      "4\tandroid,java\n",
      "5\tphp,xml\n",
      "6\tajax,json,web-services\n",
      "7\t...\n"
     ]
    }
   ],
   "source": [
    "grader.status()"
   ]
  },
  {
   "cell_type": "code",
   "execution_count": 153,
   "metadata": {},
   "outputs": [
    {
     "name": "stdout",
     "output_type": "stream",
     "text": [
      "You want to submit these parts:\n",
      "Task TextPrepare:\n",
      " sqlite php readonly\n",
      "creating multiple textboxes dynamically\n",
      "self one prefer javascript\n",
      "save php date...\n",
      "Task WordsTagsCount:\n",
      " javascript,c#,java\n",
      "using,php,java...\n",
      "Task BagOfWords:\n",
      " 7...\n",
      "Task MultilabelClassification:\n",
      " 0\tmysql,php\n",
      "1\tjavascript\n",
      "2\t\n",
      "3\tjavascript,jquery\n",
      "4\tandroid,java\n",
      "5\tphp,xml\n",
      "6\tajax,json,web-services\n",
      "7\t...\n"
     ]
    }
   ],
   "source": [
    "STUDENT_EMAIL = 'wesen@ruinwesen.com' # EMAIL \n",
    "STUDENT_TOKEN = '4oOYMQcKcZ5Jq1EX' # TOKEN \n",
    "grader.status()"
   ]
  },
  {
   "cell_type": "markdown",
   "metadata": {},
   "source": [
    "If you want to submit these answers, run cell below"
   ]
  },
  {
   "cell_type": "code",
   "execution_count": 154,
   "metadata": {},
   "outputs": [
    {
     "name": "stdout",
     "output_type": "stream",
     "text": [
      "Submitted to Coursera platform. See results on assignment page!\n"
     ]
    }
   ],
   "source": [
    "grader.submit(STUDENT_EMAIL, STUDENT_TOKEN)"
   ]
  },
  {
   "cell_type": "code",
   "execution_count": null,
   "metadata": {
    "collapsed": true
   },
   "outputs": [],
   "source": []
  }
 ],
 "metadata": {
  "kernelspec": {
   "display_name": "Python 3",
   "language": "python",
   "name": "python3"
  },
  "language_info": {
   "codemirror_mode": {
    "name": "ipython",
    "version": 3
   },
   "file_extension": ".py",
   "mimetype": "text/x-python",
   "name": "python",
   "nbconvert_exporter": "python",
   "pygments_lexer": "ipython3",
   "version": "3.6.3"
  },
  "toc": {
   "nav_menu": {},
   "number_sections": true,
   "sideBar": true,
   "skip_h1_title": false,
   "title_cell": "Table of Contents",
   "title_sidebar": "Contents",
   "toc_cell": false,
   "toc_position": {},
   "toc_section_display": true,
   "toc_window_display": false
  }
 },
 "nbformat": 4,
 "nbformat_minor": 2
}
